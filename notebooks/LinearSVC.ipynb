{
 "cells": [
  {
   "cell_type": "code",
   "execution_count": null,
   "id": "7a27e2f8",
   "metadata": {},
   "outputs": [],
   "source": []
  },
  {
   "cell_type": "code",
   "execution_count": 37,
   "id": "99841303",
   "metadata": {},
   "outputs": [],
   "source": [
    "import numpy as np\n",
    "from sklearn.feature_extraction.text import CountVectorizer\n",
    "from sklearn.feature_extraction.text import TfidfTransformer\n",
    "from sklearn.model_selection import train_test_split\n",
    "from sklearn import preprocessing\n",
    "from sklearn.metrics import accuracy_score, classification_report\n",
    "from sklearn.svm import LinearSVC"
   ]
  },
  {
   "cell_type": "code",
   "execution_count": 39,
   "id": "9febcc32",
   "metadata": {},
   "outputs": [
    {
     "name": "stdout",
     "output_type": "stream",
     "text": [
      "True\n",
      "<class 'str'>\n"
     ]
    }
   ],
   "source": [
    "# read in corpus\n",
    "\n",
    "import csv\n",
    "filename = \"../../Danish/Danish/offenseval-tr-training-v1.tsv\"\n",
    "\n",
    "corpus_raw, labels = [], []\n",
    "\n",
    "with open(filename, encoding=\"utf-8\") as tsv_file:\n",
    "    rd = csv.reader(tsv_file, delimiter=\"\\t\", quotechar='\"')\n",
    "    for row in rd:\n",
    "        if len(row) != 3:\n",
    "            continue\n",
    "        if row[2] == \"subtask_a\":\n",
    "            continue\n",
    "        corpus_raw.append(row[1])\n",
    "        labels.append(row[2])\n",
    "        #print(row)\n",
    "        \n",
    "print(len(corpus_raw)==len(labels))\n",
    "print(type(corpus_raw[1]))"
   ]
  },
  {
   "cell_type": "code",
   "execution_count": 3,
   "id": "981c904c",
   "metadata": {},
   "outputs": [],
   "source": [
    "import spacy\n",
    "import emoji\n",
    "import re"
   ]
  },
  {
   "cell_type": "code",
   "execution_count": 40,
   "id": "d24abc05",
   "metadata": {},
   "outputs": [
    {
     "ename": "KeyboardInterrupt",
     "evalue": "",
     "output_type": "error",
     "traceback": [
      "\u001b[0;31m---------------------------------------------------------------------------\u001b[0m",
      "\u001b[0;31mKeyboardInterrupt\u001b[0m                         Traceback (most recent call last)",
      "\u001b[0;32m<ipython-input-40-4b484ab89a33>\u001b[0m in \u001b[0;36m<module>\u001b[0;34m\u001b[0m\n\u001b[1;32m      4\u001b[0m \u001b[0mcorpus\u001b[0m \u001b[0;34m=\u001b[0m \u001b[0;34m[\u001b[0m\u001b[0;34m]\u001b[0m\u001b[0;34m\u001b[0m\u001b[0;34m\u001b[0m\u001b[0m\n\u001b[1;32m      5\u001b[0m \u001b[0;32mfor\u001b[0m \u001b[0msample\u001b[0m \u001b[0;32min\u001b[0m \u001b[0mcorpus_raw\u001b[0m\u001b[0;34m:\u001b[0m\u001b[0;34m\u001b[0m\u001b[0;34m\u001b[0m\u001b[0m\n\u001b[0;32m----> 6\u001b[0;31m     \u001b[0mdoc\u001b[0m \u001b[0;34m=\u001b[0m \u001b[0mnlp\u001b[0m\u001b[0;34m(\u001b[0m\u001b[0msample\u001b[0m\u001b[0;34m)\u001b[0m\u001b[0;34m\u001b[0m\u001b[0;34m\u001b[0m\u001b[0m\n\u001b[0m\u001b[1;32m      7\u001b[0m     \u001b[0;31m#tokens = [token.text for token in doc]\u001b[0m\u001b[0;34m\u001b[0m\u001b[0;34m\u001b[0m\u001b[0;34m\u001b[0m\u001b[0m\n\u001b[1;32m      8\u001b[0m     \u001b[0mtokens\u001b[0m \u001b[0;34m=\u001b[0m \u001b[0;34m[\u001b[0m\u001b[0;34m]\u001b[0m\u001b[0;34m\u001b[0m\u001b[0;34m\u001b[0m\u001b[0m\n",
      "\u001b[0;32m/mnt/c/Users/renih/Desktop/FS21/Text_Mining/Exercises/Exercise5/venvs/torch3/lib/python3.8/site-packages/spacy/language.py\u001b[0m in \u001b[0;36m__call__\u001b[0;34m(self, text, disable, component_cfg)\u001b[0m\n\u001b[1;32m    993\u001b[0m                 \u001b[0merror_handler\u001b[0m \u001b[0;34m=\u001b[0m \u001b[0mproc\u001b[0m\u001b[0;34m.\u001b[0m\u001b[0mget_error_handler\u001b[0m\u001b[0;34m(\u001b[0m\u001b[0;34m)\u001b[0m\u001b[0;34m\u001b[0m\u001b[0;34m\u001b[0m\u001b[0m\n\u001b[1;32m    994\u001b[0m             \u001b[0;32mtry\u001b[0m\u001b[0;34m:\u001b[0m\u001b[0;34m\u001b[0m\u001b[0;34m\u001b[0m\u001b[0m\n\u001b[0;32m--> 995\u001b[0;31m                 \u001b[0mdoc\u001b[0m \u001b[0;34m=\u001b[0m \u001b[0mproc\u001b[0m\u001b[0;34m(\u001b[0m\u001b[0mdoc\u001b[0m\u001b[0;34m,\u001b[0m \u001b[0;34m**\u001b[0m\u001b[0mcomponent_cfg\u001b[0m\u001b[0;34m.\u001b[0m\u001b[0mget\u001b[0m\u001b[0;34m(\u001b[0m\u001b[0mname\u001b[0m\u001b[0;34m,\u001b[0m \u001b[0;34m{\u001b[0m\u001b[0;34m}\u001b[0m\u001b[0;34m)\u001b[0m\u001b[0;34m)\u001b[0m\u001b[0;34m\u001b[0m\u001b[0;34m\u001b[0m\u001b[0m\n\u001b[0m\u001b[1;32m    996\u001b[0m             \u001b[0;32mexcept\u001b[0m \u001b[0mKeyError\u001b[0m \u001b[0;32mas\u001b[0m \u001b[0me\u001b[0m\u001b[0;34m:\u001b[0m\u001b[0;34m\u001b[0m\u001b[0;34m\u001b[0m\u001b[0m\n\u001b[1;32m    997\u001b[0m                 \u001b[0;31m# This typically happens if a component is not initialized\u001b[0m\u001b[0;34m\u001b[0m\u001b[0;34m\u001b[0m\u001b[0;34m\u001b[0m\u001b[0m\n",
      "\u001b[0;32m/mnt/c/Users/renih/Desktop/FS21/Text_Mining/Exercises/Exercise5/venvs/torch3/lib/python3.8/site-packages/spacy/pipeline/trainable_pipe.pyx\u001b[0m in \u001b[0;36mspacy.pipeline.trainable_pipe.TrainablePipe.__call__\u001b[0;34m()\u001b[0m\n",
      "\u001b[0;32m/mnt/c/Users/renih/Desktop/FS21/Text_Mining/Exercises/Exercise5/venvs/torch3/lib/python3.8/site-packages/spacy/pipeline/transition_parser.pyx\u001b[0m in \u001b[0;36mspacy.pipeline.transition_parser.Parser.predict\u001b[0;34m()\u001b[0m\n",
      "\u001b[0;32m/mnt/c/Users/renih/Desktop/FS21/Text_Mining/Exercises/Exercise5/venvs/torch3/lib/python3.8/site-packages/spacy/pipeline/transition_parser.pyx\u001b[0m in \u001b[0;36mspacy.pipeline.transition_parser.Parser.greedy_parse\u001b[0;34m()\u001b[0m\n",
      "\u001b[0;32m/mnt/c/Users/renih/Desktop/FS21/Text_Mining/Exercises/Exercise5/venvs/torch3/lib/python3.8/site-packages/spacy/ml/parser_model.pyx\u001b[0m in \u001b[0;36mspacy.ml.parser_model.get_c_weights\u001b[0;34m()\u001b[0m\n",
      "\u001b[0;32m/mnt/c/Users/renih/Desktop/FS21/Text_Mining/Exercises/Exercise5/venvs/torch3/lib/python3.8/site-packages/thinc/model.py\u001b[0m in \u001b[0;36mget_param\u001b[0;34m(self, name)\u001b[0m\n\u001b[1;32m    205\u001b[0m             \u001b[0;32mreturn\u001b[0m \u001b[0;32mNone\u001b[0m\u001b[0;34m\u001b[0m\u001b[0;34m\u001b[0m\u001b[0m\n\u001b[1;32m    206\u001b[0m \u001b[0;34m\u001b[0m\u001b[0m\n\u001b[0;32m--> 207\u001b[0;31m     \u001b[0;32mdef\u001b[0m \u001b[0mget_param\u001b[0m\u001b[0;34m(\u001b[0m\u001b[0mself\u001b[0m\u001b[0;34m,\u001b[0m \u001b[0mname\u001b[0m\u001b[0;34m:\u001b[0m \u001b[0mstr\u001b[0m\u001b[0;34m)\u001b[0m \u001b[0;34m->\u001b[0m \u001b[0mFloatsXd\u001b[0m\u001b[0;34m:\u001b[0m\u001b[0;34m\u001b[0m\u001b[0;34m\u001b[0m\u001b[0m\n\u001b[0m\u001b[1;32m    208\u001b[0m         \u001b[0;34m\"\"\"Retrieve a weights parameter by name.\"\"\"\u001b[0m\u001b[0;34m\u001b[0m\u001b[0;34m\u001b[0m\u001b[0m\n\u001b[1;32m    209\u001b[0m         \u001b[0;32mif\u001b[0m \u001b[0mname\u001b[0m \u001b[0;32mnot\u001b[0m \u001b[0;32min\u001b[0m \u001b[0mself\u001b[0m\u001b[0;34m.\u001b[0m\u001b[0m_has_params\u001b[0m\u001b[0;34m:\u001b[0m\u001b[0;34m\u001b[0m\u001b[0;34m\u001b[0m\u001b[0m\n",
      "\u001b[0;31mKeyboardInterrupt\u001b[0m: "
     ]
    }
   ],
   "source": [
    "# preprocess\n",
    "nlp = spacy.load(\"da_core_news_sm\")\n",
    "\n",
    "corpus = []\n",
    "for sample in corpus_raw:\n",
    "    doc = nlp(sample)\n",
    "    #tokens = [token.text for token in doc]\n",
    "    tokens = []\n",
    "    for token in doc:\n",
    "        tok = token.text\n",
    "        tok = tok.lower()\n",
    "        tok = emoji.demojize(tok)\n",
    "        tok = re.sub(r\"(.)\\1+\", r\"\\1\\1\", tok)\n",
    "        tokens.append(tok)\n",
    "    tokens = \" \".join(tokens)\n",
    "    corpus.append(tokens)\n",
    "\n",
    "print(corpus)"
   ]
  },
  {
   "cell_type": "code",
   "execution_count": 19,
   "id": "498239cd",
   "metadata": {},
   "outputs": [
    {
     "data": {
      "text/plain": [
       "array([0, 0, 1, ..., 0, 0, 1])"
      ]
     },
     "execution_count": 19,
     "metadata": {},
     "output_type": "execute_result"
    }
   ],
   "source": [
    "le = preprocessing.LabelEncoder()\n",
    "le.fit([\"NOT\", \"OFF\"])\n",
    "labels = le.transform(labels)\n",
    "labels"
   ]
  },
  {
   "cell_type": "code",
   "execution_count": 20,
   "id": "d31fe6aa",
   "metadata": {},
   "outputs": [],
   "source": [
    "# split into test and training sets\n",
    "train_texts, test_texts, train_labels, test_labels = train_test_split(corpus, labels, test_size=0.1, random_state=7)"
   ]
  },
  {
   "cell_type": "code",
   "execution_count": 15,
   "id": "68efe7ca",
   "metadata": {},
   "outputs": [
    {
     "data": {
      "text/plain": [
       "True"
      ]
     },
     "execution_count": 15,
     "metadata": {},
     "output_type": "execute_result"
    }
   ],
   "source": [
    "# to test the regex pattern that should be passed to CountVectorizer so that it doesn't change the tokenization done before\n",
    "test_lst = ['jeg', 'har', 'gået', 'et', 'stykke', 'af', 'kungsleden', 'i', 'sverige', '.', 'det', 'kan', 'varmt', 'anbefales', '.', 'det', 'er', 'billigt', 'hvis', 'du', 'selv', 'slæber', 'mad', 'med', '.', ':smiling_face_with_smiling_eyes:']\n",
    "test_str = \" \".join(test_lst)\n",
    "pattern = r'(?u)\\s?(\\S+)\\s?'\n",
    "tokens = re.findall(pattern, test_str)\n",
    "#for tok1, tok2 in zip(test_lst, tokens):\n",
    "#    print(f\"{tok1}\\t\\t{tok2}\")\n",
    "test_lst == tokens\n"
   ]
  },
  {
   "cell_type": "code",
   "execution_count": 21,
   "id": "d365856c",
   "metadata": {},
   "outputs": [
    {
     "name": "stdout",
     "output_type": "stream",
     "text": [
      "shape trainX:  (2664, 10158) \n",
      "\n",
      "shape testX:  (296, 10158)\n"
     ]
    }
   ],
   "source": [
    "# fit CountVectorizer on train_corpus + test_corpus to have complete vocabulary and avoid out of vocabulary items (???)\n",
    "# --> not sure this makes sense, this idea is from Manfred\n",
    "\n",
    "# TODO: customize token_pattern parameter to preserve punctuation when tokenizing\n",
    "vectorizer = CountVectorizer(token_pattern=pattern)\n",
    "\n",
    "vectorizer.fit(train_texts+test_texts)\n",
    "\n",
    "# transform training and test set separately\n",
    "trainX = vectorizer.transform(train_texts)\n",
    "testX = vectorizer.transform(test_texts)\n",
    "\n",
    "train_and_test = vectorizer.transform(train_texts+test_texts)\n",
    "print(\"shape trainX: \", trainX.shape, \"\\n\")\n",
    "print(\"shape testX: \", testX.shape)\n",
    "#added = trainX + testX\n",
    "#print(\"shape added: \", added)"
   ]
  },
  {
   "cell_type": "code",
   "execution_count": 22,
   "id": "0daca3b5",
   "metadata": {},
   "outputs": [],
   "source": [
    "# same for tfidf fit and transformation\n",
    "transformer = TfidfTransformer()\n",
    "\n",
    "transformer.fit(train_and_test)\n",
    "\n",
    "trainX = transformer.transform(trainX)\n",
    "testX = transformer.transform(testX)"
   ]
  },
  {
   "cell_type": "code",
   "execution_count": 23,
   "id": "95cdd505",
   "metadata": {},
   "outputs": [
    {
     "name": "stdout",
     "output_type": "stream",
     "text": [
      "Score:  0.9973723723723724\n"
     ]
    }
   ],
   "source": [
    "# train with sklearn's linearSVC\n",
    "\n",
    "linear_svc = LinearSVC()\n",
    "\n",
    "linear_svc.fit(trainX, train_labels)\n",
    "\n",
    "score = linear_svc.score(trainX, train_labels)\n",
    "print(\"Score: \", score)"
   ]
  },
  {
   "cell_type": "code",
   "execution_count": 24,
   "id": "622be316",
   "metadata": {},
   "outputs": [
    {
     "data": {
      "text/plain": [
       "array([0, 0, 0, 0, 0, 0, 0, 0, 0, 0, 0, 0, 0, 0, 0, 0, 0, 0, 0, 0, 0, 0,\n",
       "       0, 0, 0, 0, 0, 0, 0, 0, 0, 0, 0, 0, 0, 0, 0, 0, 0, 0, 1, 0, 0, 0,\n",
       "       0, 0, 0, 0, 0, 0, 0, 0, 0, 0, 0, 0, 0, 0, 0, 0, 0, 0, 0, 0, 0, 0,\n",
       "       0, 0, 0, 0, 0, 0, 0, 0, 0, 0, 0, 1, 0, 0, 0, 0, 0, 0, 0, 1, 0, 0,\n",
       "       0, 0, 0, 0, 0, 0, 0, 0, 0, 0, 0, 0, 0, 0, 0, 0, 0, 0, 0, 0, 0, 1,\n",
       "       0, 0, 0, 0, 1, 0, 0, 0, 0, 0, 0, 0, 0, 0, 1, 0, 0, 0, 0, 0, 0, 0,\n",
       "       0, 0, 0, 0, 0, 0, 0, 1, 0, 0, 0, 0, 0, 0, 0, 0, 0, 0, 0, 0, 0, 0,\n",
       "       0, 0, 0, 0, 0, 0, 0, 0, 0, 0, 0, 0, 1, 0, 0, 0, 0, 0, 0, 0, 0, 1,\n",
       "       0, 0, 0, 0, 0, 0, 0, 0, 0, 0, 0, 0, 0, 0, 0, 0, 0, 0, 0, 0, 0, 0,\n",
       "       0, 0, 0, 0, 0, 0, 0, 0, 0, 0, 0, 0, 0, 0, 0, 0, 0, 0, 0, 0, 0, 0,\n",
       "       0, 0, 0, 1, 0, 0, 0, 0, 0, 0, 0, 0, 0, 0, 0, 0, 0, 0, 0, 1, 0, 0,\n",
       "       0, 0, 0, 0, 0, 0, 0, 0, 0, 0, 0, 0, 0, 0, 0, 0, 0, 1, 1, 0, 0, 1,\n",
       "       0, 0, 0, 0, 0, 0, 0, 0, 0, 0, 0, 0, 0, 0, 0, 0, 0, 0, 0, 0, 0, 0,\n",
       "       0, 0, 1, 0, 1, 0, 0, 0, 0, 0])"
      ]
     },
     "execution_count": 24,
     "metadata": {},
     "output_type": "execute_result"
    }
   ],
   "source": [
    "# predict the test data\n",
    "\n",
    "predictions = linear_svc.predict(testX)\n",
    "predictions"
   ]
  },
  {
   "cell_type": "code",
   "execution_count": 25,
   "id": "a2fde8ba",
   "metadata": {},
   "outputs": [
    {
     "name": "stdout",
     "output_type": "stream",
     "text": [
      "              precision    recall  f1-score   support\n",
      "\n",
      "           0       0.91      0.99      0.95       258\n",
      "           1       0.81      0.34      0.48        38\n",
      "\n",
      "    accuracy                           0.91       296\n",
      "   macro avg       0.86      0.67      0.71       296\n",
      "weighted avg       0.90      0.91      0.89       296\n",
      "\n"
     ]
    }
   ],
   "source": [
    "report = classification_report(test_labels, predictions)\n",
    "print(report)"
   ]
  },
  {
   "cell_type": "markdown",
   "id": "ae54e884",
   "metadata": {},
   "source": [
    "## Naive Bayes"
   ]
  },
  {
   "cell_type": "code",
   "execution_count": 26,
   "id": "3a412df5",
   "metadata": {},
   "outputs": [],
   "source": [
    "# train with sklearn's Gaussian Naive Bayes\n",
    "\n",
    "from sklearn.naive_bayes import GaussianNB\n"
   ]
  },
  {
   "cell_type": "code",
   "execution_count": 27,
   "id": "39c73c81",
   "metadata": {},
   "outputs": [
    {
     "name": "stdout",
     "output_type": "stream",
     "text": [
      "Score:  0.9159159159159159\n"
     ]
    }
   ],
   "source": [
    "gnb = GaussianNB()\n",
    "\n",
    "dense_trainX = trainX.toarray()\n",
    "#dense_labels = train_labels.toarray()\n",
    "\n",
    "gnb.fit(dense_trainX, train_labels)\n",
    "\n",
    "score = gnb.score(dense_trainX, train_labels)\n",
    "print(\"Score: \", score)"
   ]
  },
  {
   "cell_type": "code",
   "execution_count": 28,
   "id": "c8311b8a",
   "metadata": {},
   "outputs": [
    {
     "data": {
      "text/plain": [
       "array([0, 0, 0, 0, 0, 0, 0, 0, 0, 1, 0, 0, 0, 0, 0, 1, 0, 0, 1, 1, 0, 0,\n",
       "       1, 0, 0, 0, 1, 0, 0, 1, 0, 0, 0, 0, 1, 0, 1, 0, 1, 0, 0, 0, 0, 0,\n",
       "       1, 0, 0, 1, 1, 1, 0, 1, 0, 1, 1, 1, 0, 1, 0, 0, 1, 1, 0, 1, 0, 0,\n",
       "       0, 1, 0, 1, 0, 0, 0, 0, 0, 1, 1, 0, 0, 1, 1, 0, 0, 1, 0, 0, 0, 1,\n",
       "       0, 1, 1, 1, 0, 0, 0, 1, 0, 0, 0, 0, 0, 1, 0, 0, 0, 0, 0, 1, 0, 1,\n",
       "       0, 0, 0, 0, 1, 0, 1, 0, 0, 0, 1, 0, 0, 1, 0, 0, 0, 0, 0, 0, 0, 0,\n",
       "       0, 0, 0, 0, 0, 0, 0, 1, 0, 0, 0, 0, 1, 0, 1, 0, 0, 0, 1, 0, 0, 1,\n",
       "       1, 0, 0, 1, 0, 1, 1, 0, 0, 1, 1, 0, 1, 1, 1, 1, 0, 1, 1, 0, 0, 0,\n",
       "       0, 0, 0, 0, 1, 1, 0, 0, 0, 0, 0, 1, 1, 1, 1, 0, 0, 0, 0, 0, 1, 0,\n",
       "       0, 0, 1, 0, 0, 0, 0, 0, 0, 1, 0, 0, 0, 0, 1, 0, 0, 0, 1, 0, 1, 0,\n",
       "       1, 1, 0, 1, 0, 1, 0, 0, 0, 0, 1, 1, 0, 0, 0, 1, 0, 0, 0, 0, 0, 0,\n",
       "       1, 1, 0, 1, 1, 0, 0, 0, 1, 1, 1, 1, 1, 1, 0, 0, 0, 0, 0, 0, 1, 0,\n",
       "       1, 0, 1, 0, 0, 0, 0, 1, 0, 0, 1, 1, 0, 0, 1, 0, 1, 0, 0, 0, 0, 0,\n",
       "       0, 0, 1, 1, 1, 0, 0, 1, 0, 0])"
      ]
     },
     "execution_count": 28,
     "metadata": {},
     "output_type": "execute_result"
    }
   ],
   "source": [
    "gnb_preds = gnb.predict(testX.toarray())\n",
    "gnb_preds"
   ]
  },
  {
   "cell_type": "code",
   "execution_count": 29,
   "id": "c038b255",
   "metadata": {},
   "outputs": [
    {
     "name": "stdout",
     "output_type": "stream",
     "text": [
      "              precision    recall  f1-score   support\n",
      "\n",
      "           0       0.88      0.67      0.76       258\n",
      "           1       0.14      0.37      0.20        38\n",
      "\n",
      "    accuracy                           0.63       296\n",
      "   macro avg       0.51      0.52      0.48       296\n",
      "weighted avg       0.78      0.63      0.69       296\n",
      "\n"
     ]
    }
   ],
   "source": [
    "gnb_report = classification_report(test_labels, gnb_preds)\n",
    "print(gnb_report)"
   ]
  },
  {
   "cell_type": "markdown",
   "id": "379bcf23",
   "metadata": {},
   "source": [
    "## KNeighbors"
   ]
  },
  {
   "cell_type": "code",
   "execution_count": 30,
   "id": "7133d9c5",
   "metadata": {},
   "outputs": [],
   "source": [
    "from sklearn.neighbors import KNeighborsClassifier"
   ]
  },
  {
   "cell_type": "code",
   "execution_count": 31,
   "id": "22e1053c",
   "metadata": {},
   "outputs": [
    {
     "name": "stdout",
     "output_type": "stream",
     "text": [
      "Score:  0.9996246246246246\n"
     ]
    }
   ],
   "source": [
    "knn = KNeighborsClassifier(50, weights=\"distance\")\n",
    "\n",
    "knn.fit(trainX, train_labels)\n",
    "\n",
    "score = knn.score(trainX, train_labels)\n",
    "print(\"Score: \", score)"
   ]
  },
  {
   "cell_type": "code",
   "execution_count": 32,
   "id": "7198478b",
   "metadata": {},
   "outputs": [
    {
     "data": {
      "text/plain": [
       "array([0, 0, 0, 0, 0, 0, 0, 0, 0, 0, 0, 0, 0, 0, 0, 0, 0, 0, 0, 0, 0, 0,\n",
       "       0, 0, 0, 0, 0, 0, 0, 0, 0, 0, 0, 0, 0, 0, 0, 0, 0, 0, 0, 0, 0, 0,\n",
       "       0, 0, 0, 0, 0, 0, 0, 0, 0, 0, 0, 0, 0, 0, 0, 0, 0, 0, 0, 0, 0, 0,\n",
       "       0, 0, 0, 0, 0, 0, 0, 0, 0, 0, 0, 0, 0, 0, 0, 0, 0, 0, 0, 0, 0, 0,\n",
       "       0, 0, 0, 0, 0, 0, 0, 0, 0, 0, 0, 0, 0, 0, 0, 0, 0, 0, 0, 0, 0, 0,\n",
       "       0, 0, 0, 0, 0, 0, 0, 0, 0, 0, 0, 0, 0, 0, 0, 0, 0, 0, 0, 0, 0, 0,\n",
       "       0, 0, 0, 0, 0, 0, 0, 0, 0, 0, 0, 0, 0, 0, 0, 0, 0, 0, 0, 0, 0, 0,\n",
       "       0, 0, 0, 0, 0, 0, 0, 0, 0, 0, 0, 0, 0, 0, 0, 0, 0, 0, 0, 0, 0, 0,\n",
       "       0, 0, 0, 0, 0, 0, 0, 0, 0, 0, 0, 0, 0, 0, 0, 0, 0, 0, 0, 0, 0, 0,\n",
       "       0, 0, 0, 0, 0, 0, 0, 0, 0, 0, 0, 0, 0, 0, 0, 0, 0, 0, 0, 0, 0, 0,\n",
       "       0, 0, 0, 0, 0, 0, 0, 0, 0, 0, 0, 0, 0, 0, 0, 0, 0, 0, 0, 0, 0, 0,\n",
       "       0, 0, 0, 0, 0, 0, 0, 0, 0, 0, 0, 0, 0, 0, 0, 0, 0, 0, 0, 0, 0, 0,\n",
       "       0, 0, 0, 0, 0, 0, 0, 0, 0, 0, 0, 0, 0, 0, 0, 0, 0, 0, 0, 0, 0, 0,\n",
       "       0, 0, 0, 0, 0, 0, 0, 0, 0, 0])"
      ]
     },
     "execution_count": 32,
     "metadata": {},
     "output_type": "execute_result"
    }
   ],
   "source": [
    "knn_preds = knn.predict(testX)\n",
    "knn_preds"
   ]
  },
  {
   "cell_type": "code",
   "execution_count": 33,
   "id": "4aaca5cf",
   "metadata": {},
   "outputs": [
    {
     "name": "stdout",
     "output_type": "stream",
     "text": [
      "              precision    recall  f1-score   support\n",
      "\n",
      "           0       0.87      1.00      0.93       258\n",
      "           1       0.00      0.00      0.00        38\n",
      "\n",
      "    accuracy                           0.87       296\n",
      "   macro avg       0.44      0.50      0.47       296\n",
      "weighted avg       0.76      0.87      0.81       296\n",
      "\n"
     ]
    },
    {
     "name": "stderr",
     "output_type": "stream",
     "text": [
      "/mnt/c/Users/renih/Desktop/FS21/Text_Mining/Exercises/Exercise5/venvs/torch3/lib/python3.8/site-packages/sklearn/metrics/_classification.py:1248: UndefinedMetricWarning: Precision and F-score are ill-defined and being set to 0.0 in labels with no predicted samples. Use `zero_division` parameter to control this behavior.\n",
      "  _warn_prf(average, modifier, msg_start, len(result))\n",
      "/mnt/c/Users/renih/Desktop/FS21/Text_Mining/Exercises/Exercise5/venvs/torch3/lib/python3.8/site-packages/sklearn/metrics/_classification.py:1248: UndefinedMetricWarning: Precision and F-score are ill-defined and being set to 0.0 in labels with no predicted samples. Use `zero_division` parameter to control this behavior.\n",
      "  _warn_prf(average, modifier, msg_start, len(result))\n",
      "/mnt/c/Users/renih/Desktop/FS21/Text_Mining/Exercises/Exercise5/venvs/torch3/lib/python3.8/site-packages/sklearn/metrics/_classification.py:1248: UndefinedMetricWarning: Precision and F-score are ill-defined and being set to 0.0 in labels with no predicted samples. Use `zero_division` parameter to control this behavior.\n",
      "  _warn_prf(average, modifier, msg_start, len(result))\n"
     ]
    }
   ],
   "source": [
    "knn_report = classification_report(test_labels, knn_preds)\n",
    "print(knn_report)"
   ]
  },
  {
   "cell_type": "markdown",
   "id": "708b5502",
   "metadata": {},
   "source": [
    "## SVC"
   ]
  },
  {
   "cell_type": "code",
   "execution_count": 34,
   "id": "7d923e4b",
   "metadata": {},
   "outputs": [],
   "source": [
    "from sklearn.pipeline import make_pipeline\n",
    "from sklearn.preprocessing import StandardScaler\n",
    "from sklearn.svm import SVC"
   ]
  },
  {
   "cell_type": "code",
   "execution_count": 35,
   "id": "f148b7f3",
   "metadata": {},
   "outputs": [
    {
     "name": "stdout",
     "output_type": "stream",
     "text": [
      "Score:  0.9204204204204204\n"
     ]
    }
   ],
   "source": [
    "svc = make_pipeline(StandardScaler(), SVC(gamma='auto'))\n",
    "svc.fit(trainX.toarray(), train_labels)\n",
    "\n",
    "score = svc.score(trainX.toarray(), train_labels)\n",
    "print(\"Score: \", score)"
   ]
  },
  {
   "cell_type": "code",
   "execution_count": 36,
   "id": "9503ffff",
   "metadata": {},
   "outputs": [
    {
     "data": {
      "text/plain": [
       "array([0, 0, 0, 0, 0, 0, 0, 0, 0, 0, 0, 0, 0, 0, 0, 0, 0, 0, 0, 0, 0, 0,\n",
       "       0, 0, 0, 0, 0, 0, 0, 0, 0, 0, 0, 0, 0, 0, 0, 0, 0, 0, 0, 0, 0, 0,\n",
       "       0, 0, 0, 0, 0, 0, 0, 0, 0, 0, 0, 0, 0, 0, 0, 0, 0, 0, 0, 0, 0, 0,\n",
       "       0, 0, 0, 0, 0, 0, 0, 0, 0, 0, 0, 0, 0, 0, 0, 0, 0, 0, 0, 0, 0, 0,\n",
       "       0, 0, 0, 0, 0, 0, 0, 0, 0, 0, 0, 0, 0, 0, 0, 0, 0, 0, 0, 0, 0, 0,\n",
       "       0, 0, 0, 0, 0, 0, 0, 0, 0, 0, 0, 0, 0, 0, 0, 0, 0, 0, 0, 0, 0, 0,\n",
       "       0, 0, 0, 0, 0, 0, 0, 0, 0, 0, 0, 0, 0, 0, 0, 0, 0, 0, 0, 0, 0, 0,\n",
       "       0, 0, 0, 0, 0, 0, 0, 0, 0, 0, 0, 0, 0, 0, 0, 0, 0, 0, 0, 0, 0, 0,\n",
       "       0, 0, 0, 0, 0, 0, 0, 0, 0, 0, 0, 0, 0, 0, 0, 0, 0, 0, 0, 0, 0, 0,\n",
       "       0, 0, 0, 0, 0, 0, 0, 0, 0, 0, 0, 0, 0, 0, 0, 0, 0, 0, 0, 0, 0, 0,\n",
       "       0, 0, 0, 0, 0, 0, 0, 0, 0, 0, 0, 0, 0, 0, 0, 0, 0, 0, 0, 0, 0, 0,\n",
       "       0, 0, 0, 0, 0, 0, 0, 0, 0, 0, 0, 0, 0, 0, 0, 0, 0, 0, 0, 0, 0, 0,\n",
       "       0, 0, 0, 0, 0, 0, 0, 0, 0, 0, 0, 0, 0, 0, 0, 0, 0, 0, 0, 0, 0, 0,\n",
       "       0, 0, 0, 0, 0, 0, 0, 0, 0, 0])"
      ]
     },
     "execution_count": 36,
     "metadata": {},
     "output_type": "execute_result"
    }
   ],
   "source": [
    "svc_preds = svc.predict(testX.toarray())\n",
    "svc_preds"
   ]
  },
  {
   "cell_type": "code",
   "execution_count": 63,
   "id": "b97c4d19",
   "metadata": {},
   "outputs": [
    {
     "name": "stdout",
     "output_type": "stream",
     "text": [
      "              precision    recall  f1-score   support\n",
      "\n",
      "           0       0.87      1.00      0.93       258\n",
      "           1       0.00      0.00      0.00        38\n",
      "\n",
      "    accuracy                           0.87       296\n",
      "   macro avg       0.44      0.50      0.47       296\n",
      "weighted avg       0.76      0.87      0.81       296\n",
      "\n"
     ]
    },
    {
     "name": "stderr",
     "output_type": "stream",
     "text": [
      "/mnt/c/Users/renih/Desktop/FS21/Text_Mining/Exercises/Exercise5/venvs/torch3/lib/python3.8/site-packages/sklearn/metrics/_classification.py:1248: UndefinedMetricWarning: Precision and F-score are ill-defined and being set to 0.0 in labels with no predicted samples. Use `zero_division` parameter to control this behavior.\n",
      "  _warn_prf(average, modifier, msg_start, len(result))\n",
      "/mnt/c/Users/renih/Desktop/FS21/Text_Mining/Exercises/Exercise5/venvs/torch3/lib/python3.8/site-packages/sklearn/metrics/_classification.py:1248: UndefinedMetricWarning: Precision and F-score are ill-defined and being set to 0.0 in labels with no predicted samples. Use `zero_division` parameter to control this behavior.\n",
      "  _warn_prf(average, modifier, msg_start, len(result))\n",
      "/mnt/c/Users/renih/Desktop/FS21/Text_Mining/Exercises/Exercise5/venvs/torch3/lib/python3.8/site-packages/sklearn/metrics/_classification.py:1248: UndefinedMetricWarning: Precision and F-score are ill-defined and being set to 0.0 in labels with no predicted samples. Use `zero_division` parameter to control this behavior.\n",
      "  _warn_prf(average, modifier, msg_start, len(result))\n"
     ]
    }
   ],
   "source": [
    "svc_report = classification_report(test_labels, svc_preds)\n",
    "print(svc_report)"
   ]
  },
  {
   "cell_type": "code",
   "execution_count": 12,
   "id": "9ecb9714",
   "metadata": {},
   "outputs": [
    {
     "name": "stdout",
     "output_type": "stream",
     "text": [
      "  (0, 8708)\t1\n",
      "  (1, 3949)\t2\n",
      "  (1, 8629)\t1\n",
      "  (1, 1498)\t2\n",
      "  (1, 9318)\t2\n",
      "  (1, 9472)\t1\n",
      "  (1, 1435)\t1\n",
      "  (1, 4607)\t1\n",
      "  (1, 5223)\t1\n",
      "  (1, 3196)\t1\n",
      "  (1, 5197)\t2\n",
      "  (1, 8174)\t1\n",
      "  (1, 8225)\t1\n",
      "  (1, 6266)\t1\n",
      "  (1, 824)\t1\n",
      "  (1, 7470)\t1\n",
      "  (1, 4975)\t1\n",
      "  (1, 7667)\t1\n",
      "  (1, 1465)\t1\n",
      "  (2, 8219)\t2\n",
      "  (2, 4319)\t1\n",
      "  (2, 1421)\t1\n",
      "  (2, 5707)\t1\n",
      "  (2, 8430)\t1\n",
      "  (2, 508)\t1\n",
      "  :\t:\n",
      "  (2957, 5169)\t1\n",
      "  (2957, 1456)\t1\n",
      "  (2957, 3722)\t1\n",
      "  (2957, 3255)\t1\n",
      "  (2957, 8187)\t1\n",
      "  (2957, 4567)\t1\n",
      "  (2957, 8596)\t1\n",
      "  (2957, 6935)\t1\n",
      "  (2958, 2095)\t1\n",
      "  (2959, 1498)\t1\n",
      "  (2959, 3182)\t1\n",
      "  (2959, 3639)\t1\n",
      "  (2960, 1498)\t3\n",
      "  (2960, 4319)\t1\n",
      "  (2960, 6579)\t1\n",
      "  (2960, 1912)\t2\n",
      "  (2960, 3959)\t2\n",
      "  (2960, 5169)\t1\n",
      "  (2960, 5701)\t1\n",
      "  (2960, 2644)\t1\n",
      "  (2960, 545)\t1\n",
      "  (2960, 9171)\t1\n",
      "  (2960, 6992)\t1\n",
      "  (2960, 5570)\t1\n",
      "  (2960, 9638)\t1\n",
      "['00', '000', '018', '02', '07', '10', '100', '1000', '100km', '100kr', '100år', '11', '1100', '11000', '114', '12', '1200', '128', '13', '130', '130k', '1323', '134', '14', '15', '150', '150kr', '1520', '1581', '15km', '15min', '16', '1644', '1676', '169', '17', '1809', '1860', '1864', '1865', '19', '1917', '1940', '1941', '1963', '1981', '1992', '1994', '1997', '1m24s', '1v3', '1x', '20', '200', '2000', '2006', '2009', '2011', '2013', '2015', '2016', '2017', '2018', '2019', '2020', '2021', '2022', '2042', '2045', '20chest', '20error', '20in', '20monarch', '20with', '21', '22', '24', '25', '27', '28', '29', '2edgy4me', '2g', '2½k', '30', '300', '3000', '30000', '300km', '32', '3237', '33', '34', '3600', '37', '3700', '3n', '40', '4000', '45', '4500', '48', '4chan', '4get', '50', '500', '5000', '5000kr', '52', '5800', '5mbit', '600g', '60k', '61', '63', '66', '70', '700', '7000', '70x100', '71s', '75', '76', '78', '80', '8000', '81', '85', '90', '900', '90procent', '92', '920', '95', '9500', '95kr', '98', '99', '99år', '9gag', '9gag4life', 'aa', 'aaaaah', 'aaaarg', 'aaalt', 'aalborg', 'aarhus', 'abdallah', 'abdicerer', 'abe', 'aber', 'aberøv', 'abort', 'abortere', 'above', 'absolut', 'absurd', 'absurde', 'absurditet', 'abuse', 'ac', 'accept', 'acceptabelt', 'acceptere', 'accepterer', 'accepteres', 'accepteret', 'account', 'ad', 'adfærd', 'adgang', 'administration', 'administrationen', 'admiral', 'admistration', 'adolf', 'adresse', 'adressen', 'adresser', 'adskille', 'adskillige', 'advare', 'advaret', 'advarsler', 'adventister', 'adventure', 'advokat', 'af', 'afa', 'afbryd', 'afbræk', 'afbrændingsforbud', 'afdankede', 'afdeling', 'afdelingen', 'afdelinger', 'afdøde', 'affald', 'affyret', 'affærer', 'afgav', 'afgifter', 'afgiver', 'afgjort', 'afgørende', 'afholdsfolk', 'afhøring', 'afkode', 'afledningsmanøvre', 'aflevere', 'afleverer', 'afleveret', 'afliv', 'aflivet', 'aflyse', 'afløbet', 'afmelde', 'afrika', 'afsat', 'afskaffet', 'afskedigelse', 'afskum', 'afskyelig', 'afskyelige', 'afslutning', 'afsluttede', 'afsløre', 'afslører', 'afsløringer', 'afsnit', 'afspejlet', 'afstamning', 'afsted', 'afstemning', 'afstemningen', 'aftager', 'aften', 'aftenen', 'aftensmad', 'aftensmaden', 'afuk', 'afværget', 'against', 'agario', 'agenda', 'agenter', 'ager', 'agter', 'agtig', 'agtigt', 'agurketid', 'ah', 'ahaha', 'ahahahahahahah', 'ahh', 'ahhh', 'ahlgrens', 'aiman', 'aime', 'airpods', 'airways', 'ak', 'aka', 'akavet', 'akkumuleret', 'akkurat', 'akt', 'aktiv', 'aktive', 'al', 'alberta', 'albertslund', 'album', 'alcohol', 'aldeles', 'alder', 'alderen', 'aldersgruppe', 'aldersgruppen', 'aldersgrupper', 'aldersgrænse', 'aldig', 'aldrig', 'alen', 'alene', 'alibi', 'aliens', 'aligevel', 'alignment', 'alkohol', 'all', 'alla', 'alle', 'aller', 'allerede', 'alles', 'allesammen', 'allierede', 'alligevel', 'allmänt', 'allt', 'alltid', 'allvar', 'almindelig', 'almindelige', 'almindeligt', 'almindesø', 'als', 'alt', 'altan', 'alternativ', 'alternativer', 'alternativet', 'alternativt', 'altid', 'altids', 'alting', 'altså', 'alumni', 'alverden', 'alvorlige', 'alvorligt', 'always', 'ama', 'amager', 'ambassadør', 'ambassadører', 'amdi', 'amen', 'american', 'amerika', 'amerikaner', 'amerikanerbil', 'amerikanere', 'amerikanerne', 'amerikaners', 'amerikansk', 'amerikanske', 'ammitzbille', 'amok', 'amoralske', 'amount', 'amsterdam', 'an', 'anaconda', 'analgafler', 'anbefale', 'anbefales', 'and', 'andedam', 'andegaarden', 'andel', 'andelen', 'anden', 'andenplads', 'anderledes', 'anders', 'andersen', 'andershemmingsen', 'andet', 'andre', 'andrea', 'andres', 'anelse', 'aner', 'anerkende', 'anerkender', 'anerkendt', 'anført', 'angelsakserne', 'anglosaxisk', 'angreb', 'angrebet', 'angribe', 'angriber', 'angår', 'anholde', 'anholder', 'anholdt', 'anholdte', 'animalske', 'animation', 'anja', 'anklage', 'anklagede', 'anklagemyndigheden', 'anklager', 'anklageren', 'anklagers', 'anklages', 'anklaget', 'ankom', 'ankomme', 'ankommet', 'anledning', 'anledningen', 'anlæg', 'anlægget', 'anmelde', 'anmeldelser', 'anmelder', 'anmeldte', 'annat', 'anne', 'anno', 'ansat', 'anser', 'ansigt', 'ansigtet', 'ansiktet', 'anskaffe', 'ansvar', 'ansvarig', 'ansvarlig', 'ansvarlige', 'ansættelse', 'ansøgninger', 'antagelse', 'antager', 'antal', 'antallet', 'antidepressive', 'antifa', 'antisemitisk', 'antisemitisme', 'antydningen', 'anvende', 'any', 'anyway', 'anyways', 'apatisk', 'apatiske', 'apostasi', 'apotek', 'apoteker', 'app', 'apparat', 'apperater', 'applaus', 'approve', 'april', 'aprilsnar', 'apropos', 'ar', 'araber', 'arabere', 'arabiske', 'arbejde', 'arbejdede', 'arbejder', 'arbejderkvarter', 'arbejderpartier', 'arbejdet', 'arbejds', 'arbejdsforhold', 'arbejdskraft', 'arbejdslyst', 'arbejdsløshed', 'arbejdsmarkeder', 'arbejdsmarkedet', 'arbejdsmarkedsstyrelsen', 'arbejdsopgave', 'are', 'arenaen', 'argh', 'argument', 'argumenter', 'argumentet', 'arkitektur', 'arla', 'arm', 'arma', 'arme', 'armen', 'armene', 'armhulerne', 'army', 'armén', 'arne', 'arrangere', 'arrghh', 'arrogante', 'arrrrrrrrrrrrrrrrrrrrgggghhh', 'arsenal', 'artikel', 'artiklen', 'artikler', 'asavakkit', 'aserbajdsjan', 'asiat', 'asked', 'asp', 'asparges', 'aspiranter', 'ass', 'asshat', 'asshats', 'assimilationen', 'assimilere', 'assistenten', 'assistentens', 'associationer', 'astralis', 'astroels', 'asylansøger', 'asylshoppere', 'async', 'asynkront', 'at', 'atatürk', 'ateist', 'atlas', 'atlet', 'atletik', 'atombombe', 'atomvåben', 'att', 'atterdag', 'attestere', 'attitude', 'au', 'auditoriet', 'august', 'australien', 'auto', 'automatisk', 'autotune', 'av', 'availability', 'avengers', 'averagemonkey', 'avisen', 'avundsjuka', 'await', 'away', 'awesome', 'ayy', 'babserne', 'backsies', 'bacon', 'bad', 'bade', 'badehotellet', 'baduljen', 'badum', 'bag', 'bagdad', 'bage', 'bagedyst', 'bagefter', 'bagerbutik', 'bagerens', 'bagerjomfru', 'bagfra', 'baggrund', 'baggrunden', 'baggrundshistorien', 'baggrundsskærm', 'bagklogskabets', 'baglæns', 'bagpelsen', 'bagt', 'bagtremmer', 'bagud', 'baguetterne', 'bagværkets', 'bajer', 'bakke', 'bakker', 'bakmeel', 'bakom', 'balancen', 'ballade', 'balrog', 'baltiske', 'bamse', 'bamses', 'ban', 'banale', 'bananer', 'banden', 'bandet', 'bandlyst', 'banen', 'bange', 'bangkok', 'bank', 'bankdirektøren', 'banke', 'bankede', 'banken', 'banker', 'banket', 'banner', 'banneret', 'baptist', 'bar', 'bara', 'barakkerne', 'barbari', 'barbarisk', 'barcelona', 'bare', 'baren', 'barn', 'barnagtigt', 'barnddom', 'barriere', 'baseret', 'basert', 'bassinet', 'bastard', 'bastubadande', 'bastubadarna', 'basunisten', 'battlefront', 'battles', 'bayern', 'be', 'bed', 'bede', 'beder', 'bedere', 'bedrag', 'bedraget', 'bedre', 'bedrift', 'bedring', 'bedst', 'bedste', 'bedømmelse', 'been', 'befolkning', 'befolkningen', 'befolkningens', 'befri', 'befrielsesdag', 'beføjelser', 'begge', 'begin', 'begravelse', 'begravelser', 'begravet', 'begreber', 'begrebet', 'begriber', 'begrænsning', 'begynd', 'begynde', 'begynder', 'begyndt', 'begyndte', 'begå', 'begået', 'begår', 'behagelig', 'behandle', 'behandling', 'behandlings', 'behandlingsforløb', 'behjælpelig', 'behold', 'beholde', 'beholder', 'behov', 'behæftet', 'behændigt', 'behöver', 'behørig', 'behøvede', 'behøver', 'bekendt', 'bekendtskab', 'beklædning', 'bekräfta', 'bekræfte', 'bekræftede', 'bekræfter', 'bekvemmelighed', 'bekymre', 'bekymret', 'bekymring', 'bekæmpe', 'bekæmpelse', 'belaste', 'belastende', 'belaster', 'believe', 'beliiiieve', 'bellahøj', 'belongs', 'beløb', 'beløbet', 'bemærk', 'ben', 'benny', 'bente', 'benytter', 'benyttet', 'benzin', 'benægte', 'benægtelse', 'benægter', 'benævnelse', 'beordrer', 'beregnes', 'beregningen', 'berettigede', 'berettiget', 'berggrund', 'berige', 'berigelse', 'beriget', 'bering', 'bernes', 'bernie', 'bertel', 'berømt', 'berømte', 'beset', 'besiddelser', 'beskatningen', 'besked', 'beskeder', 'beskidt', 'beskidte', 'beskrev', 'beskrivelse', 'beskylde', 'beskyldte', 'beskyttelse', 'beskytter', 'beskæftige', 'beskæftigede', 'beslutning', 'beslutte', 'besluttet', 'besparelser', 'best', 'besteg', 'bestemme', 'bestemmer', 'bestemt', 'bestille', 'bestiller', 'bestilt', 'bestof', 'bestyrelsen', 'bestämt', 'bestå', 'består', 'besudler', 'besynderlige', 'besættelsesmagter', 'besøg', 'besøge', 'besøget', 'besøgstallet', 'besøgt', 'bet', 'betal', 'betale', 'betaler', 'betalt', 'betegnelsen', 'betegner', 'betegnet', 'betjent', 'betjente', 'betjentene', 'beton', 'betragtelige', 'betragtet', 'betragtning', 'bette', 'betyde', 'betyder', 'betydning', 'betændt', 'betænkninger', 'betænkningstid', 'bevare', 'bevares', 'bevidste', 'bevis', 'bevisbyrden', 'bevise', 'beviseligt', 'beviser', 'bevises', 'beviset', 'bevismateriale', 'bevist', 'bevæge', 'bi', 'biblen', 'bide', 'bidedag', 'bider', 'bidrag', 'bidraget', 'biedermeierkultur', 'bien', 'biffen', 'bifrost', 'big', 'bigger', 'biiiiiaaaatch', 'bike', 'bil', 'bilar', 'bilbo', 'bilder', 'bildøren', 'bilen', 'biler', 'bilerne', 'bilkas', 'bill', 'billar', 'billed', 'billedbiks', 'billede', 'billeder', 'billedet', 'billet', 'billetter', 'billig', 'billiga', 'billige', 'billigst', 'billigt', 'bilransagninger', 'bind', 'binde', 'bindegal', 'bing', 'biograf', 'biografen', 'birkesø', 'bispebjerg', 'bist', 'bitch', 'bitcher', 'bitte', 'bizar', 'bjarne', 'bjergdansken', 'bjerge', 'bjuder', 'bjæverskov', 'bl', 'blabla', 'black', 'blackface', 'blade', 'bladet', 'blafre', 'blakket', 'blander', 'blanding', 'blandingen', 'blandt', 'blankt', 'blasfemi', 'blasphemy_laws_worldwide', 'ble', 'bleach', 'blege', 'blekinge', 'blev', 'blevet', 'bli', 'blik', 'blind', 'bling', 'blink', 'blip', 'blir', 'bliss', 'blitt', 'bliv', 'blive', 'bliver', 'blivit', 'blob', 'blod', 'blodbad', 'blodspor', 'blodsugende', 'blok', 'blokfløjte', 'blokken', 'bloksbjerg', 'blomster', 'blomsterne', 'blond', 'blop', 'blot', 'bluetooth', 'blyanter', 'blå', 'blåhvalen', 'blåhvaler', 'blåser', 'blått', 'blåv', 'blåøjede', 'blæreruten', 'blæse', 'blæser', 'blæst', 'blæsten', 'bløffet', 'bo', 'bockwurst', 'bodd', 'body', 'boede', 'boet', 'bog', 'bogstaveligt', 'bogstaver', 'bohemian', 'bohr', 'bohwim', 'boiz', 'bokse', 'bolde', 'bolig', 'boligbobble', 'boligområde', 'bolivianernas', 'boller', 'bollerne', 'bolleven', 'bolognaise', 'bolonaise', 'bomben', 'bombet', 'bombningerne', 'bon', 'bondefange', 'bonehurtingjuice', 'bonus', 'boobiebanger', 'boobs', 'bor', 'bord', 'bordeaux', 'bordet', 'borgen', 'borger', 'borgere', 'borgerforslag', 'borgerforslaget', 'borgerræpresentationen', 'borgmesteren', 'borgmesterkontoret', 'bork', 'bornholm', 'bornholmere', 'borresø', 'bort', 'bortforklaringer', 'bortset', 'bosonen', 'bosætte', 'bot', 'botilbud', 'boxen', 'boxes', 'boy', 'boycot', 'boykotte', 'bra', 'bragt', 'bragte', 'bramsens', 'branche', 'brandbeskattet', 'brandert', 'brandte', 'brave', 'bravo', 'breakfast', 'breaking', 'breeds', 'bremselængde', 'bremsespor', 'brev', 'brian', 'bridge', 'bright', 'brilliant', 'bring', 'bringe', 'bringer', 'brise', 'britiske', 'britta', 'britterne', 'bro', 'broccolien', 'broder', 'broen', 'broholmer', 'brok', 'broke', 'brokke', 'brokker', 'bror', 'brormand', 'bros', 'brothers', 'browseren', 'brug', 'bruge', 'bruger', 'brugerbetaling', 'brugere', 'brugernavn', 'bruges', 'brugt', 'brugte', 'bruhhhh', 'bruker', 'brun', 'brune', 'bruno', 'brunt', 'brus', 'brutalitet', 'bryde', 'bryder', 'brydes', 'bryster', 'brysterne', 'brystvorter', 'brännvin', 'bræk', 'brækkede', 'brækker', 'brækket', 'brænd', 'brænde', 'brændende', 'brænder', 'brænding', 'brændt', 'brændte', 'brætspil', 'bröndby', 'brød', 'brødre', 'brødres', 'brølt', 'brøndbyfan', 'btc', 'bubber', 'bud', 'budget', 'budskab', 'budskap', 'buerakruter', 'buket', 'bukker', 'bukket', 'bukseben', 'bukser', 'bukserne', 'buldrer', 'bull', 'bullshit', 'bum', 'bumset', 'bund', 'bunden', 'bundet', 'bunke', 'burde', 'bureaukrati', 'burger', 'burhan', 'burka', 'burkaforbud', 'burkaforbudet', 'bus', 'busines', 'busk', 'bussen', 'busserne', 'but', 'butik', 'butikker', 'buu', 'bwahahahahahah', 'by', 'bybørn', 'byde', 'bye', 'byen', 'byens', 'byer', 'byg', 'bygge', 'bygger', 'bygget', 'bygninger', 'bytte', 'bäst', 'bättre', 'båda', 'både', 'bådet', 'bådflygtninge', 'båret', 'båt', 'båååå', 'bæ', 'bælte', 'bænk', 'bærbar', 'bære', 'bæredygtighed', 'bæredygtigt', 'bærer', 'bææætsj', 'bögstäver', 'bör', 'börjar', 'bødekassen', 'bøf', 'bøffen', 'bøfsander', 'bøfsandwich', 'bøgen', 'bøger', 'bølge', 'bølgen', 'bøllerne', 'bønder', 'bør', 'børn', 'børnebyerne', 'børnebørnene', 'børnehaveklasse', 'børnehaver', 'børnene', 'børnepension', 'børns', 'børsen', 'børster', 'bøssen', 'bøsserøven', 'bøtte', 'bøtten', 'bøvl', 'bŗ', 'c6', 'ca', 'cajun', 'caka', 'cakes', 'callbacks', 'campingferie', 'can', 'canada', 'canadiere', 'canadisk', 'cancer', 'cand', 'cannabis', 'canucks', 'carlsberg', 'carolina', 'carsberg', 'cartoon', 'case', 'casino', 'casual', 'cat', 'catalanske', 'catch', 'cavling', 'cbs', 'censur', 'censurere', 'centrum', 'certificeret', 'chafing', 'chairs', 'champ', 'champions', 'chance', 'chancen', 'chans', 'chaotic', 'chapelle', 'char', 'charles', 'check', 'checkpoints', 'cheese', 'cheeseburger', 'chef', 'cheferne', 'children', 'chok', 'choke', 'chokerende', 'chokolade', 'chokoladeboller', 'chokoladestykker', 'choose', 'christ', 'christian', 'christiansborg', 'christiansborgtale', 'christianshavn', 'church', 'cigaretter', 'circlejerk', 'cirka', 'cirkeltrek', 'cirkus', 'citerer', 'citron', 'citronmåner', 'civilisation', 'civiliseret', 'civilizationen', 'claimt', 'clancy', 'class', 'classified', 'classy', 'click', 'clickbait', 'clinton', 'closed', 'cm', 'cnn', 'cnut', 'co2', 'coach', 'cobain', 'cocio', 'cocktail', 'cod', 'cod2', 'coffeeshop', 'coke', 'collecting', 'com', 'come', 'comedy', 'comic', 'coming', 'comment', 'compose', 'computer', 'computerchips', 'computeren', 'computerspil', 'condolences', 'confirm', 'confirmed', 'congobajeren', 'contact', 'containerskibe', 'content', 'context', 'cool', 'copenhagen', 'copy', 'copyrighted', 'coroutine', 'coroutines', 'corydons', 'costa', 'counter', 'countries', 'country', 'course', 'cowboy', 'cowboyderne', 'cowboys', 'cozyplaces', 'cpu', 'crap', 'crazy', 'credit', 'creme', 'cremefraiche', 'crime', 'cringe', 'cross', 'crossposte', 'crossposter', 'crush', 'cs', 'csgo', 'cuisine', 'cumshot', 'cupcake', 'cuppen', 'curling', 'cv', 'cyanidkapsel', 'cykel', 'cykelidiot', 'cykelløb', 'cykelpumpe', 'cykelsti', 'cykelstien', 'cykle', 'cyklede', 'cykler', 'cyklet', 'cyklister', 'cyklisterne', 'czech', 'da', 'dabadeedabadey', 'dae', 'dag', 'dagblad', 'dage', 'dagen', 'dagens', 'dagli', 'daglige', 'dagligen', 'dagligt', 'dags', 'dagspanje', 'dalar', 'dame', 'damen', 'damer', 'damn', 'dampede', 'dan', 'dane', 'danegeld', 'danelagen', 'danemark', 'danemarken', 'daner', 'danere', 'danerne', 'danernes', 'danes', 'dangerous', 'danglish', 'danish', 'dank', 'dankmark', 'dankort', 'danmag', 'danmark', 'danmarks', 'danmarksvän', 'danneborger', 'dannebrog', 'dannebrogsflag', 'danner', 'dannevirke', 'danny', 'danois', 'danse', 'dansebamse', 'dansen', 'danser', 'dansevisen', 'dansk', 'danska', 'danskar', 'danskarna', 'danske', 'dansken', 'danskens', 'dansker', 'danskere', 'danskeren', 'danskerens', 'danskerne', 'danskernes', 'danskertråd', 'danskhat', 'danskhed', 'danskjävel', 'danskjäveln', 'danskjävlar', 'danskjävlarna', 'danskjävleri', 'danskjäääävlar', 'danskjævel', 'dansksvin', 'danskt', 'dario', 'darth', 'das', 'dasco', 'daskere', 'dat', 'data', 'dataersmuk', 'datalogi', 'date', 'dateres', 'datering', 'datidens', 'datter', 'datteren', 'datum', 'dave', 'daværende', 'daværne', 'ddrjake', 'de', 'deal', 'dean', 'debat', 'debater', 'debatten', 'debatter', 'dedikeret', 'deeeeeeen', 'deeen', 'defensive', 'degraderet', 'dehydrering', 'dein', 'dejlig', 'dejlige', 'dejligt', 'del', 'dele', 'deler', 'delikatesse', 'delish', 'dels', 'delt', 'deltage', 'delte', 'deltog', 'delvist', 'dem', 'demands', 'demobånd', 'demokrati', 'demokratisk', 'demokratiske', 'demonstreret', 'den', 'dengang', 'denmark', 'denna', 'denne', 'dens', 'dente', 'depresso_excesso', 'depåstår', 'der', 'dere', 'derefter', 'deres', 'derfor', 'derhen', 'derhjemme', 'derimod', 'derind', 'derinde', 'dermed', 'derned', 'dernede', 'deroppe', 'derovre', 'ders', 'dersgrupper', 'dertil', 'derud', 'derudover', 'derved', 'design', 'despacito', 'desperation', 'desses', 'dessutom', 'dessverre', 'destroy', 'destruktion', 'destruktionen', 'desuden', 'desverre', 'desværre', 'det', 'detaljer', 'detaljeret', 'detektivarbejde', 'detektiver', 'dets', 'detta', 'dette', 'deutsche', 'deutsches', 'deutschland', 'df', 'dfs', 'dhl', 'diagnose', 'diamanten', 'did', 'die', 'dies', 'different', 'dig', 'digitaliseringen', 'digitalt', 'dihydrogenmonoxid', 'diktatoriske', 'diktatur', 'dikterer', 'diller', 'dimensioner', 'dimitterede', 'din', 'dine', 'dinosaur', 'direkt', 'direkte', 'direktør', 'direktørens', 'direktørløninger', 'disciplin', 'disco', 'disken', 'diskotek', 'diskotræsko', 'diskret', 'diskriminikaiton', 'diskusion', 'diskussion', 'diskussioner', 'diskuter', 'disney', 'dispensation', 'disq', 'disse', 'dissede', 'dissing', 'distancere', 'distanceret', 'dit', 'div', 'diverse', 'djævelens', 'djævle', 'djævlemode', 'djævlesprog', 'djøøøøt', 'dk', 'dkk', 'dmca', 'dobbelt', 'dobbelte', 'dobbeltmoral', 'dobbeltmoralsk', 'doch', 'dock', 'doe', 'dog', 'dogge', 'dokument', 'dokumentar', 'dokumentaren', 'dokumentarprogram', 'dokumenteret', 'dolkegris', 'dom', 'dommedagsbeskeden', 'dommerkendelse', 'dommers', 'domstole', 'don', 'donald', 'donau', 'done', 'donere', 'dong', 'doom', 'dope', 'dos', 'dosbox', 'dosis', 'doulingo', 'dovne', 'down', 'downloade', 'downloades', 'downstemt', 'downvote', 'downvoted', 'downvotes', 'downvoting', 'dr', 'dr1', 'dra', 'drab', 'drabelige', 'drage', 'dragt', 'dragterne', 'drak', 'drakamp', 'dranker', 'dreams', 'dreje', 'drejer', 'drenge', 'drengebørn', 'drengene', 'drengo', 'dressur', 'dricka', 'dricker', 'drik', 'drikke', 'drikker', 'driller', 'drink', 'dritt', 'drive', 'driver', 'drivhusgasser', 'drivhustomater', 'drivkrafter', 'droide', 'dronning', 'dronningen', 'drooooooooooooool', 'droppe', 'droppede', 'dropper', 'droppet', 'drot', 'drr', 'drs', 'druesukker', 'drugs', 'druk', 'drukket', 'drukne', 'dråbe', 'dråben', 'dræbe', 'dræber', 'dræbersnegle', 'dræbes', 'dröm', 'drøm', 'drømme', 'du', 'dude', 'duft', 'duh', 'duk', 'dukkede', 'dukker', 'dum', 'dumme', 'dummere', 'dummeste', 'dumpe', 'dumt', 'dungarn', 'duo', 'dur', 'dverger', 'dyb', 'dybdegående', 'dybebetræk', 'dybere', 'dybt', 'dyere', 'dygtige', 'dykker', 'dyne', 'dynen', 'dyp', 'dyppede', 'dyr', 'dyre', 'dyreart', 'dyreområder', 'dyreplageri', 'dyreste', 'dyrevelfærd', 'dyrke', 'dyrt', 'dystert', 'dyttede', 'dänische', 'där', 'därför', 'då', 'dåd', 'dålig', 'dårlig', 'dårlige', 'dårligere', 'dårligst', 'dårligste', 'dårligt', 'dåse', 'dåserne', 'dæj', 'dække', 'dækkene', 'dækker', 'dækket', 'dér', 'dét', 'döden', 'dör', 'dø', 'død', 'døde', 'dødelig', 'dødelige', 'dødes', 'dødsstraf', 'dødsstraffen', 'dødstraf', 'døende', 'døgnet', 'døgnvagt', 'døgnåbent', 'døjes', 'dømme', 'dømt', 'dør', 'døre', 'døren', 'dørene', 'døtre', 'eastenders', 'easy', 'eb', 'ecort', 'ed', 'eddermane', 'edit', 'edition', 'edmonton', 'eeew', 'eet', 'eeurovisionen', 'ef', 'effekt', 'effektivt', 'efter', 'efterforskes', 'efterfølgende', 'efterhånden', 'efterlade', 'efterlader', 'efterladt', 'efterladte', 'efterligning', 'efterligninger', 'efterlyste', 'eftermiddagen', 'egen', 'egendele', 'egentlig', 'egentlige', 'egentligt', 'eget', 'egna', 'egne', 'egoistiske', 'egon', 'ein', 'ej', 'ejderen', 'eje', 'ejendom', 'ejer', 'ejere', 'eks', 'eksamen', 'eksamensbevis', 'eksaminer', 'eksem', 'eksempel', 'eksempelvis', 'eksemplarer', 'eksempler', 'eksemplet', 'eksil', 'eksistens', 'eksistentielt', 'eksisterende', 'eksisteret', 'eksotiske', 'eksperter', 'eksport', 'eksportvare', 'ekstatiske', 'ekstra', 'ekstrabladet', 'ekstremt', 'el', 'elakt', 'elcykel', 'eldre', 'elefanter', 'elefantordenen', 'elektrolytbalancen', 'element', 'elementer', 'elendig', 'elendigt', 'elever', 'eleverne', 'elfenben', 'elge', 'elgekrig', 'elgen', 'elgiganten', 'eli5', 'elite', 'ell', 'elle', 'eller', 'ellers', 'ellert', 'ellert4lyfe', 'ellerter', 'elsewhere', 'elske', 'elskede', 'elsker', 'elsket', 'em', 'emails', 'embargo', 'embeds', 'emilie', 'emne', 'emner', 'emoji', 'emot', 'empire', 'en', 'enade', 'end', 'enda', 'endda', 'ende', 'endelig', 'endelige', 'ender', 'endnu', 'endrant', 'endt', 'endte', 'endu', 'endvidere', 'ene', 'energi', 'energiindholdet', 'eneste', 'enestående', 'enevælde', 'engang', 'engangsbeløb', 'engelsk', 'engelska', 'engelske', 'engelsken', 'england', 'englændere', 'englænderne', 'enhed', 'enhedslisten', 'enhver', 'enig', 'enige', 'enighed', 'enjoy', 'enkelt', 'enkelte', 'enkeltsagspolitik', 'enkeltvis', 'enn', 'enorme', 'enormt', 'enquiries', 'ens', 'ensam', 'ensom', 'ensporet', 'enten', 'epic', 'episk', 'episke', 'episode', 'episoderne', 'er', 'era', 'ere', 'erene', 'erfaring', 'erhverv', 'erhvervslivets', 'erhvervsminister', 'erhvervsuddannelse', 'erikses', 'erkende', 'erkennt', 'erklærer', 'erklæret', 'erne', 'erobre', 'erobrens', 'erstat', 'erstatning', 'erstattet', 'es7', 'esben', 'esc', 'escort', 'eskalerende', 'essentielt', 'et', 'etc', 'eternal', 'etinisk', 'etisk', 'etnicitet', 'etnisk', 'etniske', 'etniskung', 'ett', 'etter', 'eu', 'eu3', 'euren', 'europa', 'europas', 'europe', 'europæisk', 'europæiske', 'eurovision', 'evangelical', 'evangeliske', 'even', 'event', 'events', 'eventuelle', 'ever', 'everest', 'everything', 'evidens', 'evig', 'evige', 'evighed', 'evigt', 'evne', 'evner', 'evolution', 'evolutions', 'evt', 'ex', 'excel', 'excellent', 'exit', 'expat', 'expeditionary', 'eye', 'f2', 'fabeldyr', 'face', 'facebook', 'facebooks', 'fadbamse', 'fadbamsen', 'fader', 'faderlandet', 'faderligejokes', 'faen', 'fag', 'fagforeninger', 'faggot', 'failass', 'fair', 'fake', 'faklerne', 'fakta', 'faktatjekke', 'faktisk', 'faktiskt', 'faktor', 'faktum', 'fald', 'falde', 'falder', 'faldet', 'faldt', 'fall', 'fallout', 'falmer', 'false', 'falsk', 'falske', 'fam', 'famile', 'familen', 'familie', 'familieafsnittet', 'familiefar', 'familien', 'familier', 'familierne', 'families', 'fan', 'fandema', 'fandeme', 'fanden', 'fandme', 'fandt', 'fandtes', 'fang', 'fange', 'fangede', 'fanger', 'fanget', 'fanme', 'fans', 'fansne', 'fantasiløs', 'fantastisk', 'fantastiske', 'far', 'fare', 'farer', 'faret', 'farfar', 'farlig', 'farlige', 'farligt', 'fart', 'farten', 'farve', 'farveblinde', 'farvefulde', 'farvel', 'farvelagt', 'farvelll', 'farver', 'farverigt', 'fascination', 'fascinerende', 'fascisterne', 'fase', 'fashion', 'fast', 'fastede', 'faster', 'fastlægge', 'fat', 'fatte', 'fattede', 'fatter', 'fattet', 'fattig', 'fattige', 'fattigt', 'favorit', 'faxe', 'fb', 'fc', 'feature', 'features', 'februari', 'fed', 'fede', 'fedeste', 'fedora', 'fedt', 'fedte', 'fedtmule', 'feeedt', 'feel', 'feires', 'feje', 'fejedreng', 'fejk', 'fejl', 'fejladministrerer', 'fejlagtigt', 'fejler', 'fejlfarve', 'fejr', 'fejre', 'feks', 'fel', 'fellow', 'felt', 'feltlygte', 'fem', 'femen', 'femi', 'feminazierne', 'feminisme', 'feminismen', 'feminist', 'feminister', 'feministerne', 'feministiske', 'feministparti', 'ferie', 'fesne', 'fest', 'festivalen', 'festivallen', 'fetish', 'fever', 'ff', 'ffs', 'fietsnetwerk', 'figur', 'figuren', 'fik', 'fikk', 'fikser', 'fikset', 'fil', 'file', 'film', 'filmen', 'filmkomedier', 'filter', 'filters', 'filtrere', 'filtrering', 'fimbulvinteren', 'fin', 'finale', 'finalen', 'finans', 'finansiere', 'find', 'finde', 'finder', 'findes', 'fine', 'fineste', 'finger', 'fingeren', 'finkerne', 'finland', 'finn', 'finnere', 'finnerne', 'finnes', 'finns', 'finsk', 'finske', 'finskytte', 'fint', 'fintuning', 'finurligt', 'fire', 'fired', 'firkanter', 'firma', 'firmaer', 'firmaets', 'first', 'fise', 'fisefornemt', 'fisk', 'fisken', 'fiskeri', 'fiskeriordførers', 'fissen', 'fit', 'fitta', 'five', 'fixe', 'fjeldabe', 'fjeldaben', 'fjeldaber', 'fjellabe', 'fjende', 'fjenden', 'fjendens', 'fjer', 'fjerde', 'fjerdebølge', 'fjern', 'fjerne', 'fjernede', 'fjerner', 'fjerneste', 'fjernet', 'fjernsynet', 'fjernt', 'fjoget', 'fjollede', 'fjols', 'fjolser', 'fjæs', 'fjæsbog', 'flabede', 'flad', 'flader', 'flag', 'flagellanter', 'flaget', 'flagg', 'flagge', 'flagrer', 'flagstang', 'flair', 'flammer', 'flaske', 'flaskekontaneren', 'flasken', 'flasker', 'flensborg', 'fler', 'flere', 'flertallet', 'fleste', 'flette', 'flinkere', 'floder', 'flok', 'flokdyr', 'flot', 'flotte', 'flottere', 'flow', 'fluer', 'flugt', 'fly', 'flyde', 'flyder', 'flygte', 'flygter', 'flygtning', 'flygtninge', 'flygtningene', 'flyt', 'flytninge', 'flytte', 'flyttede', 'flytter', 'flyttet', 'flyve', 'flyveren', 'flåde', 'flået', 'flækkede', 'flæsk', 'flæskedag', 'flæskesværene', 'fløde', 'fløj', 'fløjt', 'fløjtepuster', 'fo', 'fod', 'fodbold', 'fodboldhoved', 'fodboldkamp', 'fodboldkampe', 'fodgængerfeltet', 'fodre', 'fodrer', 'fogh', 'fokus', 'foldet', 'foliehatten', 'folk', 'folkefest', 'folkefærd', 'folkehøvding', 'folkelig', 'folkemøde', 'folkens', 'folkeparti', 'folkeskat', 'folkeskole', 'folkeskolen', 'folkeskolerne', 'folket', 'folketinget', 'folketingsmedlemmer', 'folketingspension', 'folketingsvalgkamp', 'folkevalgt', 'folkevalgte', 'folks', 'follow', 'foods', 'footer', 'for', 'foran', 'forandring', 'foranliggende', 'forbandede', 'forbandet', 'forbedring', 'forbedringer', 'forberede', 'forberedelse', 'forbi', 'forbindelse', 'forbindes', 'forbipassere', 'forblive', 'forbrug', 'forbruger', 'forbrydelse', 'forbrydelser', 'forbryder', 'forbryderalbum', 'forbrændingen', 'forbrændingsanlægget', 'forbud', 'forbudt', 'forbundet', 'forbyde', 'forbyder', 'forbydes', 'force', 'fordel', 'fordele', 'fordelt', 'fordi', 'fordomme', 'fordommene', 'fordrejning', 'fordrevet', 'fordrukne', 'fordøje', 'foregå', 'foregår', 'forekomme', 'forelesere', 'foreslog', 'foreslå', 'foreslået', 'foreslår', 'forestil', 'forestille', 'forestiller', 'foretaget', 'foretrukne', 'foretrække', 'foretrækker', 'forfader', 'forfattere', 'forfra', 'forfædre', 'forfædres', 'forfængelige', 'forfærdelige', 'forfærdeligt', 'forfølgere', 'forglemme', 'forgriber', 'forgårs', 'forgældet', 'forhaand', 'forhelvede', 'forhold', 'forholde', 'forholds', 'forhud', 'forhåbentlig', 'forhåbentligt', 'forhånd', 'forinden', 'forkasteligt', 'forkert', 'forkerte', 'forklar', 'forklare', 'forklarer', 'forklaring', 'forkælet', 'forlade', 'forladt', 'forlange', 'forledes', 'forlod', 'forlænge', 'forlængelse', 'forlænget', 'forlæns', 'forlæsning', 'forløb', 'form', 'forman', 'formation', 'forme', 'formel', 'formel1', 'formentlig', 'former', 'formet', 'formidable', 'formiddag', 'formiddage', 'formoder', 'formulering', 'formået', 'formål', 'formålet', 'fornavn', 'fornemmelsen', 'fornemmer', 'fornemmeren', 'fornuftig', 'fornærme', 'fornærmede', 'fornøjelse', 'fornøjet', 'forpligtelse', 'forpligtet', 'forpulede', 'forresten', 'forretningsmodel', 'forrige', 'forringer', 'forræder', 'forsat', 'forsendelse', 'forside', 'forsiden', 'forsigtigt', 'forsinkelse', 'forsinker', 'forske', 'forskel', 'forskelle', 'forskellen', 'forskellig', 'forskellige', 'forskerne', 'forskrllige', 'forslag', 'forsmåede', 'forsmået', 'forspring', 'forstad', 'forstadsterror', 'forstille', 'forstod', 'forstyrre', 'forstå', 'forståelse', 'forstået', 'forstår', 'forsvandt', 'forsvar', 'forsvare', 'forsvarer', 'forsvinder', 'forsætte', 'forsøg', 'forsøge', 'forsøger', 'forsøgt', 'forsøgte', 'forsørge', 'forsørgelse', 'forsørgelses', 'fort', 'fortalere', 'fortaller', 'fortalt', 'fortegn', 'fortid', 'fortielserne', 'fortjener', 'fortjent', 'fortjæner', 'fortnite', 'fortolkning', 'fortrudt', 'fortrunke', 'fortryde', 'fortryder', 'fortrød', 'fortsat', 'fortsatte', 'fortsæt', 'fortsætte', 'fortsætter', 'fortvivlet', 'fortæl', 'fortælle', 'fortæller', 'fortæres', 'forude', 'foruden', 'forurenende', 'forurener', 'forurening', 'foruroligende', 'forvejen', 'forvente', 'forventede', 'forventer', 'forventes', 'forventet', 'forventning', 'forvirret', 'forvirring', 'foråret', 'forældre', 'forældrene', 'forældrenes', 'forældres', 'forøvrigt', 'forütän', 'fosser', 'fotbollskillar', 'foto', 'fox', 'fps', 'fr', 'fra', 'frafalder', 'fraflytning', 'fragte', 'frajasaaaaal', 'frajasaaaal', 'frakken', 'framtiden', 'france', 'frank', 'frankrig', 'fransk', 'franske', 'franskmand', 'franskmænd', 'franskmændene', 'frase', 'fratage', 'frataget', 'fratrækkes', 'fravælge', 'fravær', 'fraværet', 'fraværsprocent', 'fred', 'fredag', 'fredags', 'frede', 'fredelige', 'frederik', 'fredog', 'fredsdrik', 'fredstogt', 'free', 'freehansisland', 'freja', 'frem', 'fremme', 'fremmed', 'fremmedhad', 'fremmedsprog', 'fremmest', 'fremover', 'fremragende', 'fremstille', 'fremtiden', 'fremtidige', 'fresh', 'fri', 'fridag', 'fridagen', 'frie', 'friends', 'frifindelse', 'frihed', 'friheden', 'frihedsbedrøvelse', 'frihedsgudinden', 'frikadellerne', 'frimærker', 'frisk', 'fristad', 'frisure', 'frisører', 'frit', 'fritid', 'fritidsdragtklædte', 'friture', 'frivillige', 'froggen', 'froh', 'from', 'fronten', 'fronter', 'frosne', 'frue', 'frugt', 'fryd', 'frygt', 'frygtelig', 'frygteligt', 'frykten', 'frys', 'fryser', 'fryseren', 'frådende', 'från', 'frække', 'frækt', 'frø', 'frøerne', 'frømandskorpset', 'frømænd', 'frømændene', 'frønland', 'ftw', 'fuc', 'fuck', 'fucke', 'fucked', 'fucker', 'fuckfingre', 'fuckhoveder', 'fucking', 'fuckit', 'fuel', 'fugl', 'fuglekongen', 'fuglsang', 'fugtige', 'fugtigt', 'fuld', 'fulde', 'fuldstændig', 'fuldstændigt', 'fuldt', 'full', 'fullcommunism', 'fult', 'fun', 'funderar', 'fundet', 'fungere', 'fungerende', 'fungerer', 'funkar', 'funktion', 'funky', 'funny', 'funnygagawful', 'funnyjunk', 'further', 'fusket', 'futures', 'fx', 'fy', 'fyfan', 'fygtede', 'fyi', 'fyld', 'fylder', 'fyldes', 'fyldestgørende', 'fyldt', 'fyldte', 'fyller', 'fyr', 'fyre', 'fyrre', 'fyrrerne', 'fyrtårn', 'fysisk', 'fysiske', 'färre', 'få', 'fået', 'får', 'fædreland', 'fædrelandet', 'fædrelandskærligheds', 'fældede', 'fælder', 'fældet', 'fæle', 'fælgene', 'fælles', 'fællesskabet', 'fængsel', 'fængslet', 'fænomen', 'fær', 'færde', 'færdes', 'færdig', 'færdiggører', 'færdigpakkede', 'færdselsreglerne', 'fære', 'færge', 'færre', 'færrest', 'færøerne', 'fætre', 'fætter', 'fölar', 'för', 'förbi', 'förlåt', 'första', 'förstasidan', 'förstå', 'förståndet', 'förstår', 'förstöras', 'försök', 'försöker', 'förtjusta', 'fødder', 'fødderne', 'fødevare', 'fødevareproducent', 'fødevarer', 'fødselaren', 'fødsels', 'fødselsdag', 'fødslen', 'født', 'føj', 'føle', 'følelsen', 'føler', 'føles', 'følg', 'følge', 'følger', 'følgere', 'følt', 'følte', 'før', 'føre', 'fører', 'førerdøren', 'først', 'første', 'førsteklasseseksemplar', 'ført', 'für', 'gad', 'gaden', 'gaffa', 'gaffatape', 'gakket', 'galgerne', 'galt', 'gambling', 'gamle', 'gammal', 'gammel', 'gammeldags', 'gammelt', 'gang', 'gange', 'gangen', 'ganialt', 'ganjioverdose', 'ganska', 'ganske', 'ganskevist', 'garbage', 'garnet', 'gas', 'gasgrill', 'gasmaske', 'gasser', 'gate', 'gates', 'gav', 'gaver', 'gavn', 'gayyyyyyyyyyyyyyyyyyy', 'ge', 'gear', 'gears', 'geht', 'gem', 'gemist', 'gemmeleg', 'gemmes', 'gemt', 'genboens', 'genbrugsstationen', 'gende', 'generalforkølelse', 'generalsekretæren', 'generation', 'generationer', 'generel', 'generelt', 'generna', 'generobre', 'gengive', 'gengæld', 'gengældelse', 'genial', 'genialt', 'genindføre', 'genkende', 'gennem', 'gennemblødte', 'gennemsigtighed', 'gennemsnit', 'gennemsnitlig', 'gennemsnitligt', 'gennemsnits', 'genopbygge', 'genopbygningen', 'genopretter', 'genstande', 'gentage', 'gentagende', 'gentager', 'gentaget', 'gentagne', 'gentofte', 'geografi', 'geometriske', 'ger', 'germansk', 'gerne', 'gerningen', 'gerninger', 'gerningsmand', 'gerningsmanden', 'gerningsmænd', 'gerningsmændene', 'gerrighed', 'get', 'gevaldige', 'gevinst', 'gevær', 'geværet', 'gg', 'gggi', 'ghetto', 'gi', 'gibt', 'gick', 'gid', 'gider', 'gif', 'giffler', 'gift', 'gifte', 'gifteksperter', 'giftliniens', 'giftlinjen', 'gifv', 'gik', 'gillar', 'gir', 'giraf', 'giraffen', 'giraffer', 'girl', 'gisp', 'gitte', 'giv', 'give', 'giver', 'gives', 'givet', 'gj', 'gjord', 'gjorde', 'gjordt', 'gjort', 'gjør', 'gjørt', 'glad', 'glade', 'gladere', 'glansen', 'glas', 'glat', 'glatte', 'glem', 'glemme', 'glemmer', 'glemmes', 'glemt', 'glemte', 'glimrende', 'glip', 'glistrup', 'glo', 'global', 'globaloffensive', 'glorie', 'glorificerede', 'glorværdige', 'gls', 'glæde', 'glædelig', 'glædeligt', 'glædens', 'glæder', 'glædesudbrud', 'glögg', 'glückwunsch', 'gnider', 'go', 'god', 'goda', 'goddag', 'gode', 'goder', 'godkender', 'godkendt', 'godmorgen', 'godnat', 'godt', 'godtnok', 'godwin', 'gofundme', 'going', 'goingarna', 'gold', 'golf', 'golfture', 'gonna', 'good', 'google', 'gopro', 'gorm', 'got', 'gott', 'governance', 'grab', 'grad', 'grader', 'graders', 'grafikkort', 'graham', 'gram', 'grammatik', 'grammatisk', 'grammatiska', 'granater', 'grand', 'grannlandets', 'grannländer', 'granted', 'gratis', 'grav', 'gravid', 'graviditeten', 'gravsteder', 'greasy', 'greatest', 'grethe', 'gribe', 'grillbarer', 'grille', 'grillen', 'grillet', 'grillovn', 'grimme', 'grimmere', 'grimt', 'grin', 'grinds', 'grine', 'grineflip', 'griner', 'grineren', 'grinet', 'grint', 'grinte', 'gris', 'griseøjne', 'griske', 'grotesk', 'ground', 'groupies', 'grov', 'grove', 'grum', 'grumme', 'grund', 'grunden', 'grundet', 'grundig', 'grundigt', 'grundlagde', 'grundlagt', 'grundloven', 'grundlægge', 'grundstenen', 'grundtvig', 'gruppe', 'gruppearbejde', 'grupper', 'grusom', 'grusomme', 'gryder', 'grå', 'grådige', 'græde', 'grædemuren', 'græder', 'grænse', 'grænsebom', 'grænsekontrol', 'grænsekontrollen', 'grænsekontroller', 'grænsen', 'grænser', 'grænserne', 'græs', 'græsset', 'grød', 'grøn', 'grønland', 'grønmarksgade', 'grønne', 'grønnere', 'grønt', 'grøntsager', 'gta', 'gtfo', 'gu', 'guards', 'gud', 'gude', 'guder', 'gudfader', 'gudforladte', 'gudskelov', 'guess', 'guf', 'guitar', 'gul', 'guld', 'guldbroche', 'guldkaramelpapir', 'guldmine', 'guldregn', 'guldure', 'gule', 'gulerødder', 'gulligt', 'gulne', 'gulvet', 'gulvtæppet', 'gurglende', 'gurnard', 'gurnet', 'gut', 'guter', 'gutter', 'guuuuuuuuuuuuuuuuuuuld', 'gyfler', 'gyldent', 'gyldig', 'gyldne', 'gylle', 'gyllebygaard', 'gym', 'gymnasiefester', 'gymnasielærer', 'gymnasiemafiaen', 'gymnasiet', 'gymnasiets', 'gymnasium', 'gynecologist', 'gå', 'gående', 'gået', 'gång', 'gången', 'går', 'gårde', 'gårdshund', 'gåsehud', 'gått', 'gælde', 'gældende', 'gælder', 'gæt', 'gætte', 'gætter', 'gætværk', 'gæve', 'göbbels', 'gör', 'göra', 'gør', 'gøre', 'gøres', 'gøy', 'ha', 'had', 'hadde', 'hade', 'hadede', 'hadefulde', 'hadeobjekt', 'hader', 'hadere', 'hades', 'hadet', 'hadforbrydelse', 'hadsundvej', 'haft', 'hage', 'hagekors', 'hagekorset', 'hah', 'haha', 'hahaahhaaa', 'hahah', 'hahaha', 'hahahaha', 'hahahahah', 'hahahahaha', 'hahahahahahahahaha', 'hahhaaha', 'hak', 'halland', 'halljø', 'hallo', 'halløj', 'hals', 'halsen', 'halv', 'halvdelen', 'halve', 'halvedelen', 'halvt', 'halvvikinger', 'ham', 'hamle', 'hammel', 'hammer', 'hamnade', 'hamrende', 'hamster', 'han', 'hand', 'handen', 'handikappede', 'handler', 'handlinger', 'hands', 'handskas', 'hanen', 'hang', 'hans', 'hansen', 'happiest', 'happy', 'har', 'hareskov', 'harley', 'harm', 'harmonisk', 'has', 'hash', 'hashen', 'hastigheden', 'hat', 'hate', 'hatten', 'hav', 'havde', 'have', 'haven', 'havet', 'havner', 'havregryn', 'hc', 'hd', 'he', 'heads', 'health', 'heard', 'hearthstone', 'heb', 'hed', 'hedde', 'hedder', 'hedenske', 'heeeeeeeeeeeey', 'heeey', 'hegn', 'hehe', 'hei', 'heia', 'heiler', 'heimdal', 'hej', 'heja', 'hejlsberg', 'hejse', 'heksen', 'hel', 'hela', 'helbredes', 'held', 'heldig', 'heldige', 'heldighvis', 'heldigt', 'heldigvis', 'hele', 'helenius', 'heller', 'hellere', 'hellig', 'hellige', 'helligt', 'hellip', 'helsingør', 'helst', 'helt', 'helte', 'helvede', 'helvedes', 'helvete', 'hemipenis', 'hemmelig', 'hemmelige', 'hemmeligheden', 'hen', 'hende', 'hendes', 'henhold', 'henholdsvis', 'henk', 'henne', 'henover', 'henrik', 'henriksen', 'henrivende', 'hensigt', 'hensyn', 'hente', 'hentehåret', 'henter', 'hentet', 'hentydende', 'henvende', 'henvender', 'henvise', 'henviser', 'her', 'here', 'herfra', 'herhjemme', 'heriblandt', 'herinde', 'herkomst', 'herop', 'heroppe', 'herr', 'herre', 'herrefolket', 'herregud', 'herrscher', 'hers', 'herses', 'hertil', 'hertugdømmer', 'hesitate', 'hest', 'heste', 'hestedressur', 'hesten', 'heteronormative', 'hev', 'hevet', 'hey', 'hf', 'hhaaahaa', 'hhahhhahaha', 'hidkaldte', 'hidtil', 'hier', 'hierbij', 'high', 'higher', 'hil', 'hilarious', 'hillerød', 'hils', 'hilsen', 'hilser', 'hilset', 'himlen', 'himlet', 'himmelbjerget', 'himym', 'hinanden', 'hinsidan', 'hipsterfamilie', 'hirtsals', 'hist', 'historie', 'historiehold', 'historielærer', 'historien', 'historieprofessoren', 'historier', 'historik', 'historisk', 'history', 'hit', 'hitler', 'hiv', 'hive', 'hiver', 'hjalp', 'hjelme', 'hjem', 'hjemland', 'hjemlandet', 'hjemløs', 'hjemløse', 'hjemme', 'hjemmebag', 'hjemmeflettede', 'hjemmefra', 'hjemmelavede', 'hjemmeside', 'hjemmet', 'hjemmeværnsmand', 'hjemsted', 'hjerne', 'hjernedød', 'hjernedødt', 'hjernen', 'hjerte', 'hjerteanfald', 'hjerter', 'hjertestop', 'hjertet', 'hjulpet', 'hjälp', 'hjælp', 'hjælpe', 'hjælpen', 'hjælper', 'hjælpes', 'hjørner', 'hjørnestenen', 'hkh', 'hm', 'hmm', 'hmmm', 'hockeyn', 'hol', 'hold', 'holde', 'holder', 'holdes', 'holdet', 'holdning', 'holdninger', 'holdt', 'holdte', 'holger', 'holland', 'hollandsk', 'holluf', 'hollændere', 'holstein', 'holsten', 'holy', 'homer', 'homo_sapiens', 'homoseksualitet', 'homoseksuel', 'hon', 'honnigkrukken', 'honning', 'honor', 'hopper', 'hoppet', 'horder', 'hormonprins', 'horn', 'hornene', 'hornmusik', 'hos', 'hospital', 'hospitalsregninger', 'host', 'hostelyd', 'hostile', 'hotdog', 'hotellet', 'hotelovernatninger', 'hov', 'hoved', 'hoveder', 'hovedet', 'hovedløst', 'hovedparten', 'hovedpersonen', 'hovedpointen', 'hovedrolle', 'hovedstad', 'how', 'hr', 'hrmph', 'hsr', 'hub', 'hubba', 'hud', 'hudfarve', 'hudfarven', 'hudløshed', 'huffington', 'hug', 'hugh', 'hugst', 'hul', 'huldigt', 'hulen', 'hull', 'hullabulla', 'hullet', 'humbug', 'humor', 'humoren', 'humorforladt', 'humoristisk', 'humør', 'hun', 'hunbold', 'hund', 'hunde', 'hundelorte', 'hunden', 'hundige', 'hundras', 'hundrede', 'hundredevis', 'hunter', 'hur', 'hurra', 'hurrah', 'hurrar', 'hurtig', 'hurtigere', 'hurtigpasta', 'hurtigt', 'hus', 'huse', 'huset', 'husholdningsfilm', 'husk', 'huske', 'husker', 'husket', 'husleje', 'hustlede', 'hutlihut', 'huttelihut', 'huvudet', 'hva', 'hvaa', 'hvad', 'hvalsø', 'hvam', 'hvaøøøh', 'hveder', 'hvem', 'hvemses', 'hvepsen', 'hver', 'hverdag', 'hverdags', 'hverken', 'hvert', 'hvid', 'hvide', 'hvidee', 'hvider', 'hvidevarer', 'hvidt', 'hvidvask', 'hvidvaske', 'hvil', 'hvile', 'hvileplads', 'hvilke', 'hvilken', 'hvilket', 'hvis', 'hvisken', 'hvo', 'hvofor', 'hvoooooooooooor', 'hvor', 'hvoraf', 'hvordan', 'hvorefter', 'hvorfor', 'hvorfår', 'hvorhenne', 'hvori', 'hvorledes', 'hvornår', 'hvortil', 'hvorvidt', 'hvæse', 'hybrid', 'hydelst', 'hyderm', 'hygge', 'hyggelig', 'hyggeligste', 'hyggeligt', 'hygger', 'hygiene', 'hykler', 'hylde', 'hylder', 'hyped', 'hypede', 'hyre', 'hyttar', 'här', 'hävdade', 'hävdar', 'håb', 'håbe', 'håber', 'håbet', 'hålla', 'håller', 'hållet', 'hån', 'hånboldhistorie', 'hånd', 'håndboldkamp', 'hånden', 'håndfuld', 'håndledene', 'håndsøksen', 'håndtere', 'håndteredes', 'håndtering', 'håner', 'håper', 'hår', 'hård', 'hårde', 'hårdeste', 'hårdt', 'hårspray', 'hårt', 'hædersbevisning', 'hædersmand', 'hæhæhæ', 'hælde', 'hælder', 'hældte', 'hæmningsløse', 'hænder', 'hænderne', 'hænge', 'hænger', 'hængt', 'hæphop', 'hær', 'hæren', 'hærge', 'hærværk', 'hærværket', 'hærværksmændene', 'hætten', 'hævder', 'hæve', 'hæver', 'hævi', 'höra', 'hø', 'høfligt', 'høj', 'høje', 'højen', 'højere', 'højest', 'højeste', 'højhed', 'højkant', 'højre', 'højrebenet', 'højreekstremisme', 'højrefløjen', 'højrefløjens', 'højreskred', 'højrøvet', 'højskole', 'højst', 'højt', 'højtalere', 'højtideligt', 'højtider', 'hønsegård', 'hør', 'høre', 'hørelse', 'hører', 'høres', 'hørevidde', 'hørt', 'hørte', 'hørtes', 'høtyven', 'høtyvene', 'høvles', 'hảr', 'iallafall', 'iberegnet', 'ibland', 'iceland', 'ich', 'icke', 'idag', 'ide', 'idealer', 'ideelt', 'ideen', 'idelogi', 'identisk', 'identiske', 'identitet', 'ideologi', 'ideologier', 'idet', 'idiot', 'idioten', 'idioter', 'idioterne', 'idioti', 'idt', 'idé', 'idéen', 'idéer', 'if', 'ifgl', 'ifht', 'ifm', 'ifrån', 'ifs', 'ifså', 'ift', 'ifølge', 'iført', 'igen', 'igennem', 'ignorance', 'igår', 'ihhh', 'ihjel', 'ihvertfald', 'ik', 'ikea', 'ikk', 'ikke', 'ikonisk', 'ild', 'ilden', 'illa', 'im14andthisisdeep', 'imamer', 'imellem', 'imens', 'imerco', 'imgen', 'imgur', 'imho', 'imidlertid', 'imigranter', 'immer', 'immigrant', 'immigranter', 'imo', 'imod', 'imperiale', 'imperialist', 'imperialister', 'impire', 'imponerende', 'importere', 'importert', 'improved', 'in', 'ind', 'indad', 'indbetaler', 'indbrud', 'indbydes', 'indbygget', 'inddrag', 'inde', 'indeholde', 'indeholder', 'inden', 'indendøre', 'indenfor', 'indeni', 'inder', 'inderligt', 'indflydelse', 'indfydelse', 'indfyelse', 'indfør', 'indføre', 'indfører', 'indført', 'indførte', 'indgangen', 'indgav', 'indgive', 'indgreb', 'indgående', 'indgået', 'indgår', 'indhold', 'indholdet', 'indholdsløse', 'indirekte', 'individet', 'individets', 'indlagt', 'indlemmet', 'indlæg', 'indlægget', 'indponereneimponerende', 'indrejseforbud', 'indretning', 'indrømme', 'indrømmet', 'indsamler', 'indsamling', 'indsamlinger', 'indsats', 'indsend', 'indskrænket', 'indskud', 'indslaget', 'indsnævrede', 'indspiste', 'indstiller', 'indstilling', 'indsætte', 'indtage', 'indtages', 'indtaste', 'indtil', 'indtryk', 'indtægt', 'industrien', 'industrisektor', 'indvadrerpolitik', 'indvandere', 'indvandre', 'indvandrer', 'indvandrerbefolkning', 'indvandrere', 'indvandring', 'indvarslede', 'indånding', 'info', 'information', 'informationer', 'ing', 'inge', 'ingen', 'ingeniør', 'ingennogensinde', 'ingenting', 'ingenørkunst', 'inget', 'inglin', 'ingmann', 'ingrediens', 'inhumane', 'initiativ', 'initiativer', 'inkl', 'inkluderer', 'inklusiv', 'inkompetente', 'inne', 'innehålla', 'innuendo', 'insanity', 'instaen', 'instagrams', 'installere', 'installeret', 'instantly', 'institution', 'institutioner', 'instruktioner', 'instruktionerne', 'int', 'inte', 'integrationen', 'integrere', 'integritet', 'intelligens', 'intelligente', 'interactive', 'intereserede', 'interessant', 'interessante', 'interesse', 'interessen', 'interesser', 'interesserer', 'interesseret', 'intergreret', 'international', 'internationalt', 'internet', 'internettet', 'interview', 'interwebz', 'intet', 'intetanende', 'intro', 'introduceret', 'invaderar', 'invadere', 'invaderer', 'invaderet', 'invasion', 'invasionsmagt', 'inverse', 'investere', 'investerer', 'invite', 'invitere', 'inviteres', 'involveret', 'iorden', 'iq', 'ir', 'irak', 'irellevans', 'irerne', 'irland', 'ironi', 'ironisk', 'irrelevant', 'irriterende', 'irriterer', 'irriteret', 'irsk', 'is', 'isflage', 'ishus', 'iskoldt', 'islam', 'islamisk', 'islamisme', 'islamisterne', 'island', 'islandske', 'ismer', 'isoleret', 'isp', 'israel', 'ist', 'istedenfor', 'istedet', 'isterningebakken', 'isterningemaskine', 'isterninger', 'især', 'it', 'italien', 'iuul', 'iveren', 'ivrige', 'ivrigt', 'ja', 'jaaa', 'jaaaa', 'jaaaaaaaaaa', 'jaaahr', 'jack', 'jacobsen', 'jag', 'jaget', 'jagt', 'jagtes', 'jagttegn', 'jaha', 'jaja', 'jakob', 'jamen', 'jamil', 'jams', 'jane', 'jansport', 'jantelagen', 'jantelov', 'japan', 'japanere', 'japaneren', 'jargonen', 'jason', 'jaså', 'javascript', 'javell', 'javle', 'jazeera', 'jbo', 'je', 'jealousy', 'jef', 'jeg', 'jehovaer', 'jensen', 'jep', 'jeps', 'jer', 'jeres', 'jesus', 'jetzt', 'jf', 'jo', 'joakim', 'job', 'jobbet', 'jobcenteret', 'jobmuligheder', 'jodå', 'joe', 'john', 'joina', 'joints', 'joke', 'joken', 'jokes', 'jomfruelig', 'jomfruelige', 'jord', 'jordbær', 'jorden', 'jorder', 'jounalistik', 'journalisten', 'journalister', 'journalisthøjskolen', 'journalistik', 'journalnotater', 'jovi', 'jpeg', 'jpg', 'ju', 'juel', 'juice', 'juicebarer', 'jul', 'julekalender', 'julekugler', 'julen', 'julerejse', 'julestjerne', 'juletræet', 'juli', 'julsø', 'junior', 'jur', 'juridisk', 'just', 'juster', 'justin', 'justitsministeren', 'jyde', 'jylland', 'jyllandsosten', 'jysk', 'jyske', 'jä', 'jänkare', 'jävla', 'jävlar', 'jävligaste', 'jægerkorpset', 'jæmtland', 'jætterne', 'jævla', 'jönssonligan', 'jøder', 'jørgen', 'k2', 'ka', 'kaas', 'kabaa', 'kaefte', 'kaffe', 'kafir', 'kage', 'kagebiks', 'kaj', 'kaj_ivirkeligheden', 'kajen', 'kal', 'kalde', 'kalder', 'kaldes', 'kaldt', 'kaldte', 'kalenderen', 'kalifat', 'kalkuleret', 'kallas', 'kalle', 'kalmar', 'kalorietal', 'kamelåså', 'kameraet', 'kamikaze', 'kaminovn', 'kammerat', 'kammerater', 'kamp', 'kampagne', 'kampagner', 'kampen', 'kampsvedte', 'kan', 'kanaanæerne', 'kanal', 'kanalen', 'kanaler', 'kanalerne', 'kandidat', 'kandidater', 'kanel', 'kanelsukker', 'kanon', 'kanoner', 'kanonprins', 'kanske', 'kanten', 'kanter', 'kaos', 'kaper', 'kapitalen', 'kapitalister', 'kapitel', 'kapslen', 'kaptajn', 'karakter', 'karameller', 'karma', 'karmafarming', 'karolina', 'karriere', 'kartan', 'kartoffel', 'kartofler', 'karton', 'kartor', 'karussellen', 'kasettebånd', 'kasse', 'kassen', 'kaste', 'kastede', 'kaster', 'kastet', 'kastetvej', 'kastrer', 'kastrering', 'kastrup', 'katastrofe', 'kategorier', 'katolik', 'katolske', 'kattegat', 'katten', 'kattene', 'kattepasserne', 'kaution', 'kautionen', 'kbh', 'kcal', 'ked', 'kede', 'kedelig', 'kedelige', 'kedeligt', 'keep', 'kejserige', 'kek', 'kemikalier', 'kemikaliet', 'kende', 'kender', 'kendt', 'kendte', 'kermit', 'kernetemperatur', 'kg', 'kids', 'kidsarefuckingstupid', 'kig', 'kigge', 'kiggede', 'kigger', 'kigget', 'kik', 'kikke', 'kikkert', 'kilde', 'kildekritik', 'kildet', 'kilimanjaro', 'kilo', 'kim', 'kina', 'kind', 'kinden', 'kinder', 'kinderne', 'kinesisk', 'kinesiske', 'king', 'kingdom', 'kingos', 'kiosk', 'kioskhår', 'kirke', 'kirkegård', 'kirkegården', 'kirken', 'kirsebærlikør', 'kjaerbye', 'kjente', 'kjære', 'kjötbulla', 'kjöttbullar', 'kjøller', 'kk', 'kl', 'klage', 'klagede', 'klam', 'klamme', 'klammeste', 'klamt', 'klandre', 'klang', 'klap', 'klaphat', 'klapper', 'klar', 'klarar', 'klare', 'klarer', 'klareste', 'klaret', 'klarhed', 'klart', 'klasse', 'klassen', 'klasser', 'klasserne', 'klasseundervisning', 'klasseværelser', 'klassförakt', 'klassiker', 'klassisk', 'klassiske', 'klat', 'klatrer', 'klaus', 'klik', 'klima', 'klimaanlæg', 'klimaanlægget', 'klimaforandringerne', 'klinikker', 'klippe', 'klippede', 'klisterhår', 'klistre', 'klistrede', 'klode', 'klodser', 'klog', 'kloge', 'klogere', 'klogt', 'klokke', 'klokken', 'klokt', 'klostre', 'klovn', 'klub', 'klubbmärke', 'klynke', 'klæ', 'klæde', 'klædt', 'kløede', 'kløer', 'kløjs', 'kløver', 'knald', 'knalde', 'knallert', 'knallerter', 'knap', 'knaprarna', 'knapt', 'kneb', 'kneppede', 'kneppet', 'kniber', 'kniven', 'knivstikkeri', 'knogler', 'knolle', 'knolli', 'knotten', 'know', 'knud', 'knude', 'knugen', 'knullebehovet', 'knus', 'knut', 'knuth', 'knäppa', 'knæ', 'knægt', 'knægte', 'knægten', 'ko', 'kode', 'koden', 'kodesprog', 'kodning', 'koffein', 'kog', 'koge', 'koger', 'koges', 'kogt', 'kogte', 'kokain', 'kokke', 'kokonprins', 'kold', 'koldbrand', 'kolde', 'koldere', 'koldskaal', 'koldskål', 'koldt', 'koll', 'kollaps', 'kollegaer', 'kollegie', 'kollegiet', 'kollektivt', 'kolonier', 'kolonierne', 'kolonisere', 'kom', 'kombination', 'komikere', 'komisk', 'komite', 'komma', 'kommaer', 'kommatering', 'komme', 'kommentar', 'kommentaren', 'kommentarene', 'kommentarer', 'kommentarerene', 'kommentarfeltet', 'kommentere', 'kommentér', 'kommer', 'kommet', 'kommunen', 'kommunikation', 'kommunisme', 'kommunismen', 'kommunismens', 'kommunist', 'kommunistisk', 'kompas', 'kompensere', 'kompetence', 'kompetencer', 'komplekst', 'komplet', 'kompliment', 'koncept', 'koncert', 'kondi', 'kondolere', 'kondomet', 'konduktøren', 'kone', 'konens', 'koner', 'kones', 'konferencer', 'konflikter', 'kong', 'konge', 'kongelige', 'kongen', 'kongerige', 'kongeriget', 'kongerigets', 'kongesangen', 'konkluderer', 'konkret', 'konkrete', 'konkurrenceplan', 'konsekvens', 'konsekvenser', 'konsekvenserne', 'konsekvent', 'konservative', 'konsistent', 'konstant', 'konstatere', 'konstnärliga', 'konsulent', 'kontainer', 'kontakt', 'kontakte', 'kontaktperson', 'kontantfrit', 'kontanthjælp', 'kontekst', 'konteksten', 'kontinentets', 'kontor', 'kontorer', 'kontoret', 'kontorplads', 'kontoudtog', 'kontrast', 'kontrol', 'kontrolere', 'kontroversielle', 'kontroversielt', 'konung', 'konvertere', 'kop', 'kopi', 'kopiera', 'kopiere', 'kopieret', 'koranen', 'koranens', 'korea', 'korrekt', 'korrekte', 'korrupt', 'korrupte', 'korruption', 'korruptions', 'kors', 'kort', 'kortet', 'kortfattet', 'kortforsyningen', 'kost', 'koste', 'kostede', 'kosten', 'koster', 'kr', 'kraft', 'kraftedme', 'kraftig', 'kraftige', 'kraftigere', 'kraftigt', 'kraftædme', 'krakeleret', 'krammede', 'krapylets', 'krav', 'kravet', 'kreditere', 'krig', 'krige', 'krigen', 'kriger', 'krigere', 'krigerer', 'krigeres', 'krigerkongen', 'krigshistorie', 'krigsstien', 'krim', 'kriminalitet', 'kriminaliteten', 'kriminelle', 'kriminelt', 'krisen', 'kristen', 'kristendommen', 'kristens', 'kristent', 'kristiansand', 'kristne', 'kritik', 'kritiserer', 'kritisk', 'krog', 'krone', 'kroner', 'kronprins', 'krop', 'kroppe', 'kroppen', 'kropstemperaturen', 'krumme', 'kryb', 'krydrede', 'krydret', 'kryds', 'krymper', 'kryptiske', 'kræftensbekæmbelse', 'kræfter', 'kræftædeme', 'krænkede', 'krænkelse', 'krænkelses', 'krænkelsesmuligheder', 'krænkelsesret', 'krænkende', 'krænker', 'krænket', 'kræve', 'kræver', 'krøyer', 'ku', 'kugle', 'kugler', 'kuglerne', 'kujonagtige', 'kul', 'kulde', 'kuldegysninger', 'kulinariske', 'kultur', 'kulturarv', 'kulturberigelse', 'kulturberigerne', 'kulturelle', 'kulturelt', 'kulturen', 'kulturer', 'kulturikon', 'kulturskat', 'kulturskatte', 'kummunist', 'kun', 'kunde', 'kunder', 'kunderne', 'kundskaber', 'kungsleden', 'kunna', 'kunnat', 'kunne', 'kunnen', 'kunst', 'kunstner', 'kunstneren', 'kup', 'kursen', 'kurt', 'kusine', 'kussen', 'kvadratiske', 'kval', 'kvaler', 'kvalitet', 'kvaliteten', 'kvalitets', 'kvalitetsmeme', 'kvalité', 'kvalmen', 'kvalt', 'kvarter', 'kvartfinalerne', 'kvickare', 'kvickly', 'kvinde', 'kvinden', 'kvinder', 'kvinderne', 'kvindernes', 'kvinders', 'kvindes', 'kvindesiden', 'kvindeundertrykkelse', 'kvindfolk', 'kvote', 'kvotekonge', 'kvotekongen', 'kvæg', 'kvæles', 'kylle', 'kyllinge', 'kyllingen', 'kyndelmisse', 'kys', 'kysen', 'kyster', 'käk', 'källa', 'känn', 'känna', 'kärlek', 'kåre', 'kæde', 'kæft', 'kæften', 'kælder', 'kælling', 'kællingen', 'kællinger', 'kæmpe', 'kæmpede', 'kæmper', 'kæmpestore', 'kæmpet', 'kæpheste', 'kær', 'kære', 'kærer', 'kæreste', 'kæresten', 'kærlighed', 'kærligheden', 'kórs', 'ködbullar', 'ködböllër', 'köpa', 'köttbullar', 'kø', 'køb', 'købe', 'københavn', 'københavnerstangen', 'københavns', 'køber', 'købte', 'kød', 'kødbolle', 'kødsovs', 'køkken', 'køkkenpapir', 'køle', 'køler', 'køleskab', 'kølet', 'kølig', 'kølige', 'køligt', 'køllerne', 'køn', 'kønsorganer', 'kønssygdom', 'kør', 'køre', 'kørede', 'kørende', 'kører', 'køres', 'kørestol', 'køreturen', 'kørsel', 'kørt', 'kørte', 'køtersnak', 'l2', 'la', 'laban', 'lad', 'lade', 'laden', 'lader', 'ladet', 'ladknallerter', 'lag', 'lagde', 'lage', 'lagen', 'laget', 'lagt', 'lakrids', 'lama', 'lamper', 'lampeskærme', 'land', 'landbetjenten', 'landbrug', 'landbrugspakke', 'lande', 'landede', 'landene', 'landes', 'landet', 'landets', 'landeveje', 'landfast', 'landforræder', 'landin', 'lands', 'landsbyhospitalet', 'landsforrædder', 'landsforræder', 'landsforræderi', 'landsforvist', 'landsholdet', 'landsmænd', 'lang', 'lange', 'langelændere', 'langskibene', 'langsom', 'langsommere', 'langsomt', 'langt', 'langæg', 'lap', 'larm', 'larme', 'larmende', 'larmer', 'lars', 'larsen', 'lasere', 'lassen', 'lastbilchauffører', 'lastbilvenner', 'latin', 'latterlig', 'latterlige', 'latterligt', 'lav', 'lave', 'lavede', 'laver', 'lavere', 'lavest', 'laveste', 'lavet', 'lavt', 'law', 'le', 'league', 'led', 'lede', 'ledelse', 'leder', 'ledere', 'lederegenskaber', 'ledet', 'ledige', 'ledninger', 'ledsaget', 'lee', 'leende', 'leflen', 'leflet', 'lege', 'legends', 'leger', 'legetøjsgevær', 'legitimerer', 'legitimeres', 'legitimeret', 'legitimt', 'lego', 'legokassen', 'lejet', 'lejlighed', 'lejligheden', 'lejligheder', 'lejre', 'lel', 'lemlæste', 'lene', 'let', 'leth', 'letta', 'lettede', 'letter', 'leva', 'leve', 'level', 'levemand', 'levende', 'lever', 'levere', 'leverlort', 'leverpostej', 'leverpåsteg', 'leves', 'levet', 'levevej', 'li', 'liberal', 'liberale', 'libitum', 'libyen', 'licens', 'lide', 'lider', 'liderlig', 'lidl', 'lidt', 'lie', 'life', 'lift', 'lig', 'lige', 'ligefrem', 'ligeglad', 'ligeglade', 'ligegyldig', 'ligegyldige', 'ligegyldigt', 'ligeledes', 'ligemeget', 'ligepludselig', 'ligesom', 'ligestilling', 'ligestillingen', 'ligeså', 'ligge', 'ligger', 'ligget', 'lign', 'ligne', 'lignede', 'lignende', 'ligner', 'likadana', 'like', 'liker', 'likeus', 'liksom', 'lille', 'lillebitte', 'lillefinger', 'lillesøster', 'limet', 'limo', 'line', 'link', 'linke', 'linked', 'linker', 'linket', 'links', 'linsen', 'linus', 'liste', 'listede', 'listen', 'lister', 'litauen', 'lite', 'liter', 'liters', 'liv', 'live', 'livet', 'livredder', 'livsnedbrydende', 'livstid', 'll', 'lmao', 'loade', 'lobbyist', 'lockoute', 'lod', 'loftet', 'logger', 'logikken', 'logisk', 'logning', 'logoet', 'lokal', 'lokale', 'lokaler', 'lokalisér', 'lokalområde', 'loke', 'lokkemad', 'lokket', 'lol', 'lomme', 'lommen', 'london', 'longue', 'look', 'loop', 'loot', 'lort', 'lorte', 'lorteartikel', 'lortebleer', 'lortejob', 'lortememe', 'lortemusik', 'lorten', 'lorteopslag', 'lortepostideer', 'lortepæl', 'lorteret', 'lortesituation', 'lortesommer', 'lortesøskende', 'lortet', 'lorteunger', 'lortevarmt', 'lorthunden', 'los', 'lov', 'love', 'lovede', 'loven', 'lover', 'lovet', 'lovforslaget', 'lovgivet', 'lovgivning', 'lovgivningen', 'lovligt', 'lovpligtigt', 'low', 'loyalitet', 'lps', 'luder', 'luft', 'lufte', 'luften', 'lufthavn', 'luftrum', 'lugnt', 'lugten', 'lugter', 'luk', 'lukas', 'lukke', 'lukkede', 'lukker', 'lukkes', 'lukket', 'luksus', 'lund', 'lunde', 'lune', 'lunkent', 'lurker', 'lurpak', 'lurpark', 'lurt', 'lusankya', 'lussing', 'lutfisk', 'lycka', 'lyd', 'lyde', 'lyden', 'lyder', 'lygte', 'lykke', 'lykkedes', 'lykkelig', 'lykkelige', 'lykkeligere', 'lykkeligste', 'lykkeligt', 'lykkeridder', 'lykkes', 'lynlåsen', 'lyrik', 'lys', 'lysene', 'lyserøde', 'lyserødt', 'lyset', 'lyskryds', 'lysner', 'lyspunkt', 'lyst', 'lysten', 'lystmorder', 'lyt', 'lytte', 'lyttede', 'lytter', 'lyttet', 'lyv', 'lyver', 'länge', 'läst', 'lå', 'låg', 'låget', 'lån', 'lånar', 'låne', 'låneord', 'långyxa', 'lånte', 'lår', 'låret', 'låse', 'låste', 'låt', 'låter', 'læben', 'læder', 'læderlapper', 'læg', 'læge', 'lægemidler', 'lægemidler1', 'lægen', 'læger', 'lægere', 'lægge', 'lægger', 'lækker', 'lækkersulten', 'lækkert', 'lækreste', 'læner', 'længe', 'længere', 'længst', 'lær', 'lære', 'lærer', 'lærerig', 'lærerigt', 'lærerne', 'lært', 'lærte', 'læs', 'læse', 'læser', 'læsere', 'læst', 'læste', 'lættis', 'lömska', 'løb', 'løbe', 'løbende', 'løber', 'løbes', 'løbesko', 'løbet', 'lød', 'løftede', 'løftet', 'løg', 'løgn', 'løgne', 'løgnersækken', 'løgskærende', 'løjerne', 'løjet', 'løkke', 'lømler', 'løn', 'lønforhøjelse', 'lønninger', 'lønseddel', 'lørdag', 'lørdagen', 'løse', 'løsere', 'løsladte', 'løsning', 'løssnus', 'løst', 'løverne', 'm75', 'm95', 'maaaaaaaasser', 'maasse', 'macg', 'macron', 'mad', 'madamme', 'maden', 'madlavningen', 'madpornografi', 'madsen', 'madsens', 'madspild', 'madvarerne', 'mafia', 'mage', 'magen', 'magisk', 'maglev', 'magrethe', 'magt', 'magtdemonstration', 'magten', 'magter', 'mah', 'mail', 'maj', 'maja', 'majestæt', 'majestæten', 'majestætiske', 'majestætsfornærmelse', 'majet', 'major', 'majs', 'make', 'makes', 'makke', 'makker', 'maksimum', 'maler', 'malerier', 'malet', 'malitetskveme', 'malmö', 'malmø', 'malone', 'malt', 'man', 'manage', 'manager', 'managere', 'mand', 'mandag', 'mandags', 'mandegruppe', 'manden', 'mandfolket', 'mandom', 'mands', 'mandsling', 'mandslinger', 'manel', 'maner', 'mange', 'mangel', 'mangen', 'mangle', 'manglen', 'manglende', 'mangler', 'manuel', 'manér', 'manøvre', 'mao', 'mapporn', 'mar', 'marathoner', 'mareridt', 'margarine', 'margrethe', 'marianne', 'marijuana', 'maritime', 'marius', 'mark', 'markant', 'markareal', 'markedsføre', 'marken', 'marker', 'markere', 'markeret', 'markeringer', 'marketingskampagnen', 'mars', 'martin', 'martins', 'marvel', 'marvels', 'marxisme', 'mary', 'masken', 'masker', 'maskeringsforbud', 'maskingevær', 'massakre', 'masse', 'massemorder', 'masseovervågnings', 'masser', 'massere', 'mast', 'masterclass', 'mat', 'matadorpenge', 'matadorsedler', 'mataffären', 'materiale', 'materialer', 'matilde', 'matrikel', 'maul', 'mave', 'max', 'mayo', 'mayonnaise', 'mc', 'mcd', 'mcdonald', 'mcjones', 'md', 'mdr', 'me', 'me_ira', 'med', 'medal_table', 'medalje', 'medaljeoverraekkelsen', 'medaljer', 'medaljerne', 'medarbejder', 'medborgere', 'meddele', 'medfør', 'media', 'medicin', 'medicinstuderende', 'mediedækning', 'medier', 'medierne', 'medinas', 'medlem', 'medlemmer', 'medlidenhedskram', 'medmennesker', 'mee', 'meeeen', 'meetup', 'meg', 'mega', 'megahyggeligt', 'megen', 'meget', 'mein', 'mejmej', 'mejmejs', 'mekka', 'melamin', 'meld', 'melde', 'melder', 'meldt', 'meldte', 'melidenhed', 'mellem', 'mellemtiden', 'mellemøsten', 'mellemøstlig', 'mellemøstlige', 'mellom', 'meme', 'mememageri', 'memen', 'memenister', 'memer', 'memes', 'memet', 'memo', 'men', 'mena', 'menar', 'mener', 'menes', 'menige', 'mening', 'meningen', 'meninger', 'menneske', 'menneskeheden', 'menneskekrop', 'menneskelige', 'menneskeligehed', 'menneskeligt', 'mennesker', 'menneskes', 'menneskesmugleren', 'mens', 'ment', 'mentalitet', 'mente', 'menuen', 'mep', 'mer', 'merc', 'mere', 'message', 'messer', 'messerschmidt', 'messi', 'messias', 'mest', 'meste', 'mesterskaber', 'metaen', 'metaforisk', 'metal', 'metaldetektorer', 'metallet', 'meter', 'metoden', 'metoder', 'mg', 'mht', 'mich', 'michella', 'microsoft', 'middag', 'middagsselskaber', 'middelalderligt', 'middelalderstyle', 'midgårdsormen', 'midler', 'midlertidig', 'midt', 'midten', 'midthalvfemserne', 'mig', 'migmig', 'migmiger', 'migmigernes', 'migmigs', 'migrationspolitik', 'mikkeller', 'mikrofonen', 'mikroovn', 'mild', 'mildest', 'militariseringer', 'militær', 'militære', 'miljø', 'miljøer', 'miljøet', 'miljøstyrelsens', 'miljøvenligt', 'millard', 'million', 'millionby', 'millioner', 'millionvis', 'min', 'mina', 'minde', 'minder', 'mindes', 'mindre', 'mindreårige', 'mindst', 'mindste', 'mine', 'minecraft', 'mini', 'minimal', 'minimale', 'minimere', 'minimum', 'minister', 'ministerier', 'ministerpension', 'ministerpost', 'ministre', 'minkonge', 'minoritet', 'minsta', 'minuitter', 'minutter', 'minutters', 'mirror', 'misbrug', 'misbruger', 'misbrugere', 'misdannet', 'misdæderlig', 'misfarvet', 'misforstå', 'misforståede', 'misforstået', 'misforstår', 'mishandlede', 'missen', 'misser', 'missilerne', 'missing', 'mission', 'missionskole', 'mistanke', 'miste', 'mistede', 'mister', 'mistet', 'mistænke', 'misundelig', 'misundelige', 'misundeligt', 'misundelsen', 'misvisende', 'mit', 'mitt', 'mix', 'mjød', 'mm', 'mmo', 'moar', 'mobbes', 'mobil', 'mobilen', 'mochte', 'mod', 'modargument', 'modbevise', 'modbevises', 'modbydelige', 'mode', 'modeinteriør', 'model', 'modeller', 'moderaterna', 'moderator', 'modererer', 'moderne', 'modersmål', 'modificerede', 'modigt', 'mods', 'modsat', 'modsatte', 'modsiger', 'modstand', 'modtage', 'modtager', 'modtageren', 'modtaget', 'modtog', 'modvind', 'mohammad', 'mohammed', 'moisty', 'mojn', 'moldova', 'mon', 'monark', 'monarki', 'mongol', 'monster', 'monstre', 'moobs', 'mor', 'moral', 'morale', 'moralske', 'mord', 'more', 'morer', 'morfar', 'morgen', 'morgenbrød', 'morgenen', 'morgenkaffe', 'morgenmad', 'morgenmads', 'morges', 'mors', 'morsomme', 'morsomste', 'morsomt', 'morsø', 'morten', 'moses', 'moské', 'moster', 'mother', 'motherfuckker', 'motionsform', 'motiver', 'motivere', 'motorcykel', 'motorcykler', 'motorstøj', 'motorvejene', 'mount', 'moustafa', 'move', 'mr', 'mrn', 'msf', 'msn', 'mtb', 'muhammed', 'muhammedtegningerne', 'mulig', 'muliggjorde', 'mulighed', 'muligheden', 'muligheder', 'muligt', 'muligvis', 'multi', 'multihandikappede', 'multimediedesigner', 'multiscootaloo', 'mums', 'munafiq', 'mund', 'munden', 'mundfuld', 'munnen', 'muppar', 'mur', 'murica', 'mus', 'museum', 'musik', 'musiker', 'musikere', 'musikken', 'muskulaturen', 'muslim', 'muslimer', 'muslimsk', 'muslimske', 'mv', 'mvh', 'my', 'mycket', 'myggehelvede', 'myndighedsafdelingen', 'myndighedsinstans', 'myrdet', 'myself', 'mysteriet', 'mystiske', 'mytologi', 'människa', 'mästare', 'mäta', 'må', 'måde', 'mådenlige', 'måder', 'mådke', 'mål', 'måle', 'måles', 'målestok', 'målestoks', 'målet', 'målføj', 'måling', 'målsætning', 'målt', 'måltid', 'måneden', 'månedens', 'månedensbillede', 'måneder', 'måneders', 'måneds', 'månedsløn', 'månelandingen', 'månen', 'mår', 'måsen', 'måske', 'måste', 'mått', 'måtte', 'mægtig', 'mægtiste', 'mæjestat', 'mælk', 'mælkekasse', 'mænd', 'mændene', 'mænds', 'mængde', 'mængden', 'mærkat', 'mærke', 'mærkeligt', 'mærket', 'mærkværdigt', 'mærsk', 'möjligt', 'mø', 'møbler', 'møde', 'møder', 'mødre', 'mødt', 'mødte', 'møg', 'møgdyr', 'møgirriterende', 'møgso', 'møgsæk', 'møgunger', 'møn', 'mønstring', 'mønter', 'mønterne', 'mørk', 'mørke', 'mørkeblå', 'mørket', 'mørkt', 'müsli', 'naa', 'naam', 'naar', 'nabo', 'naboer', 'nabolaget', 'naboland', 'naive', 'nakke', 'nakskov', 'nam', 'name', 'nappe', 'nappet', 'narhval', 'narre', 'narrefisse', 'naser', 'nasser', 'nasty', 'nat', 'natbordet', 'natholdet', 'nation', 'national', 'nationaldag', 'nationale', 'nationaliser', 'nationalisme', 'nationalitet', 'nationaliteten', 'nationalmuseet', 'nationalmuseum', 'nationalret', 'nationalt', 'nationens', 'nato', 'natten', 'natur', 'nature', 'naturen', 'natureporn', 'naturkatastrofe', 'naturlig', 'naturligvis', 'naviger', 'navn', 'navneforbud', 'navneform', 'navnet', 'navngive', 'nazi', 'nazikort', 'nazisme', 'nazismen', 'nazist', 'nazister', 'nazisterne', 'nazistisk', 'nazistiske', 'nazitiden', 'neckbeardjokes', 'ned', 'nedanför', 'nede', 'nederlag', 'nederst', 'nederste', 'nedeste', 'nedgøre', 'nedladende', 'nedlæg', 'nedslagte', 'nedslidt', 'nedstammet', 'nedstemmerne', 'nedture', 'nedværdigene', 'needless', 'needs', 'neeej', 'negativ', 'negativt', 'neger', 'negere', 'nej', 'nem', 'nemesis', 'nemlig', 'nemme', 'nemmelig', 'nemmere', 'nemmest', 'nemt', 'nerve', 'nervøs', 'nervøsiteten', 'nesen', 'net', 'netflix', 'netop', 'nettet', 'netto', 'nettoposen', 'netværk', 'network', 'neuen', 'never', 'new', 'news', 'ni', 'nice', 'nicolaj', 'niels', 'night', 'nik', 'ninjaer', 'nip', 'niveau', 'niveauer', 'niveauet', 'njah', 'nnnnnnnå', 'nnå', 'no', 'noah', 'nobelprisvindere', 'noe', 'noen', 'nog', 'nogen', 'nogengange', 'nogenlunde', 'nogensinde', 'noget', 'nogle', 'nok', 'noma', 'noob', 'nooo', 'nope', 'nord', 'nordboere', 'nordboerne', 'norden', 'nordens', 'nordeuropa', 'nordirak', 'nordisk', 'nordiske', 'nordjylland', 'nordmand', 'nordmenn', 'nordmænd', 'nordmændende', 'nords', 'nordsjælland', 'nordsverige', 'nordsøolien', 'nordvei', 'norge', 'normadefolk', 'normal', 'normalt', 'normalvægtig', 'norrländska', 'norsk', 'norske', 'norsviglandene', 'north', 'norway', 'norwaypics', 'nosser', 'nosserne', 'nostalgi', 'nostalgiske', 'not', 'notat', 'note', 'notkenm', 'november', 'nr', 'nsfl', 'nsfw', 'nu', 'nuanceret', 'nuancerne', 'nullermænd', 'numbe', 'nummer', 'nummeret', 'nummerplade', 'nummerplads', 'numsen', 'nur', 'nutella', 'nutiden', 'nutidens', 'nuttet', 'nuværende', 'ny', 'nya', 'nyd', 'nydannede', 'nyde', 'nydelse', 'nydelsesværdi', 'nydt', 'nye', 'nyfødte', 'nyhed', 'nyheder', 'nyhederne', 'nykøbing', 'nylig', 'nyligt', 'nymoden', 'nynazist', 'nynazisterne', 'nyrups', 'nysgerrig', 'nysgerrighed', 'nyskapande', 'nyt', 'nytår', 'nytårsbriller', 'nä', 'när', 'nästa', 'nästar', 'näven', 'nå', 'nåde', 'nåede', 'något', 'nålen', 'nån', 'nånånå', 'når', 'nårh', 'nåå', 'næ', 'næb', 'næbbet', 'nægter', 'næh', 'næppe', 'nær', 'nære', 'nærheden', 'nærmer', 'nærmere', 'nærmest', 'nærmeste', 'næse', 'næsen', 'næsetip', 'næste', 'næsten', 'næsteved', 'næsvis', 'nætter', 'nævn', 'nævne', 'nævner', 'nævnt', 'nævnte', 'nææh', 'nød', 'nøddeallergi', 'nødder', 'nødenstund', 'nødigt', 'nødlidende', 'nødsaget', 'nødt', 'nødvendigvis', 'nøj', 'nøje', 'nørbygaard', 'nørrebro', 'nøøh', 'o_o', 'oavsett', 'obama', 'obc', 'obersvømmes', 'objektivt', 'obligatorisk', 'obligatoriske', 'oc', 'och', 'också', 'odense', 'oder', 'odfd', 'odin', 'odiøse', 'oehlenschläger', 'of', 'off', 'offentlig', 'offentlige', 'offentliggjort', 'offentliggjorte', 'offered', 'offerede', 'officielle', 'officielt', 'offtopic', 'ofre', 'ofrer', 'ofte', 'oftere', 'oftest', 'og', 'også', 'oh', 'ohhhhh', 'ok', 'okay', 'okej', 'oksekød', 'oksen', 'okser', 'oktober', 'ol', 'oldefar', 'oldinge', 'oldtiden', 'oldtidsagenters', 'ole', 'olie', 'oliemilliarder', 'olivia', 'ollegard', 'ollé', 'olsen', 'olsenbanden', 'om', 'omar', 'omdiskuteret', 'omdøbt', 'omegn', 'omfang', 'omfattende', 'omfatter', 'omg', 'omgang', 'omgangskredse', 'omgivet', 'omgående', 'omhu', 'omkring', 'område', 'områder', 'områderne', 'området', 'omskrives', 'omskåret', 'omskære', 'omskæring', 'omstilling', 'omstændigheder', 'omtale', 'omtaler', 'omtrent', 'omveje', 'omvendt', 'on', 'onanisten', 'once', 'ond', 'ondt', 'one', 'onepage', 'onkel', 'online', 'onsdag', 'onsdags', 'oooog', 'op', 'opbakning', 'opblæste', 'opbragt', 'opbygget', 'opdage', 'opdager', 'opdages', 'opdaget', 'opdannebrog', 'opdateret', 'opdatering', 'opdelinger', 'opdigte', 'opdraget', 'opdut', 'operation', 'operere', 'opereret', 'opfandt', 'opfattes', 'opfordre', 'opfordrer', 'opfordres', 'opfordring', 'opfundet', 'opfyldelse', 'opføre', 'opfører', 'opførsel', 'opført', 'opgave', 'opgørelse', 'ophold', 'opholde', 'ophygge', 'opium', 'opkald', 'opklaret', 'opkonge', 'opkøbe', 'oplevede', 'oplevelse', 'oplever', 'oplevet', 'oplsag', 'oplysning', 'oplysninger', 'oplysningsens', 'oplysningskampagne', 'oplyst', 'oplyste', 'opløse', 'opløsning', 'opmærksom', 'opmærksomhed', 'opmærksomme', 'opnår', 'oppe', 'oppefra', 'oppeg', 'oppførsel', 'opprinnelig', 'opret', 'oprette', 'oprettes', 'oprettet', 'oprindelige', 'oprob', 'oprør', 'ops', 'opslag', 'opstem', 'opstemme', 'opstemmer', 'opstemning', 'opstemt', 'opstod', 'optaget', 'optik', 'optjent', 'optræder', 'optrækket', 'opvarmning', 'opvaskehandsker', 'opvokst', 'opvurdering', 'or', 'oraklet', 'oral', 'orange', 'oranje', 'ord', 'orden', 'ordenlig', 'ordenligt', 'ordentlig', 'ordentligt', 'ordet', 'ordforråd', 'ordnet', 'ordning', 'ordret', 'ordsprog', 'ordstyre', 'ordstyrer', 'ordstyreren', 'ordtak', 'ordvits', 'org', 'organisation', 'organisk', 'organiske', 'orgasme', 'original', 'originale', 'originalen', 'originalitet', 'originalt', 'originella', 'oringes', 'ork', 'orkanmedvind', 'orkanvind', 'orker', 'orm', 'ortodokse', 'os', 'osaka', 'oslo', 'oss', 'osse', 'ost', 'ostehøvl', 'ostekage', 'osten', 'osthyvel', 'osv', 'otrevlig', 'otte', 'ouppfostrade', 'out', 'outline', 'outta', 'ove', 'oven', 'ovenfor', 'ovennævnte', 'ovenpå', 'ovenstående', 'over', 'overall', 'overarbejde', 'overbevisning', 'overbevisninger', 'overbevist', 'overblik', 'overdrevet', 'overdrive', 'overdøver', 'overens', 'overenskomster', 'overfald', 'overfalder', 'overfaldet', 'overflade', 'overfor', 'overførselsindkomst', 'overførsler', 'overgreb', 'overgået', 'overhaler', 'overhaling', 'overheating', 'overhoved', 'overhovedet', 'overkanten', 'overlade', 'overlegen', 'overlegenhed', 'overlegne', 'overleve', 'overlevelse', 'overmagt', 'overmand', 'overnatning', 'overnatte', 'overraske', 'overraskelse', 'overraskende', 'overrasker', 'overrasket', 'oversat', 'overset', 'oversigt', 'overskrift', 'overskriften', 'overskrifter', 'overskyet', 'oversættelse', 'oversættelsesfejl', 'overtag', 'overtage', 'overtager', 'overtaget', 'overtal', 'overtalt', 'overtog', 'overvej', 'overveje', 'overvejer', 'overvejet', 'overvurdere', 'overvurdering', 'overvåge', 'overvåger', 'overvåget', 'overvågningskamera', 'overvældende', 'overvældet', 'overwatch', 'ovre', 'ozonlaget', 'p1', 'p3', 'paa', 'pacifist', 'pack', 'pain', 'pakke', 'pakken', 'pampere', 'pande', 'panden', 'pander', 'papas', 'pape', 'papegøjen', 'papirarbejde', 'papiret', 'par', 'paradox', 'parametre', 'paranoia', 'paraply', 'paris', 'parken', 'parks', 'part', 'parten', 'partering', 'parteringer', 'parterne', 'parti', 'partiarrangementer', 'partier', 'partifæller', 'partikontoret', 'paryk', 'pas', 'passagedøren', 'passe', 'passede', 'passende', 'passer', 'passet', 'past', 'pasta', 'pastaen', 'pasterne', 'patetisk', 'patetiske', 'patienten', 'patriarkalsk', 'patriot', 'patriothjerter', 'patriotisk', 'patriotisme', 'patrulle', 'pattebørn', 'patter', 'patterne', 'paul', 'pause', 'pausen', 'pc', 'pct', 'peace', 'pedo', 'pegefinger', 'peger', 'penge', 'pengene', 'pengeoverførslen', 'penis', 'pension', 'pensionsalder', 'pensum', 'people', 'peoplefuckingdying', 'pepe', 'per', 'perfekt', 'perfekta', 'perfekte', 'perfektionist', 'perfmant', 'periode', 'perkerne', 'perkerspillet', 'perron', 'persillesovs', 'person', 'personale', 'personen', 'personens', 'personer', 'personerne', 'personlige', 'personlighed', 'personligt', 'peruanernas', 'pesfarvede', 'pet', 'peter', 'pff', 'pga', 'ph', 'phone', 'photo', 'photoshop', 'photoshoppe', 'photoshopped', 'photoshoppet', 'php', 'phwoaarrrrr', 'pia', 'pianomand', 'piben', 'pifter', 'pige', 'pigebarn', 'pigebarnet', 'pigen', 'piger', 'pigerne', 'pik3', 'pikhoved', 'pile', 'pilgrimme', 'pillen', 'piller', 'pilluarit', 'pimpin', 'pind', 'pinde', 'pinden', 'pindene', 'pingo', 'pink', 'pinligt', 'pinsler', 'pis', 'pisgule', 'pisse', 'pissemasse', 'pisser', 'pist', 'pistol', 'pit', 'piv', 'pivåbne', 'pizza', 'pizzaen', 'pizzariaer', 'pjat', 'pjuskebusk', 'pk', 'placering', 'pladderhumanister', 'plads', 'pladsen', 'pladser', 'plagiat', 'plagieret', 'plan', 'planer', 'planlagt', 'planlagte', 'planlægge', 'plastemballage', 'plastic', 'plasticpose', 'plastik', 'plat', 'play', 'playlist', 'playstation', 'please', 'plebejer', 'plejede', 'plejehjem', 'plejer', 'plet', 'pletter', 'pligt', 'pls', 'pludder', 'pludselig', 'plukke', 'plus', 'plyndr', 'plyndred', 'pm', 'pod', 'pog', 'pogchamp', 'point', 'pointe', 'pointen', 'points', 'pointsystem', 'pokker', 'pokkers', 'pol', 'polakkerne', 'polandball', 'politet', 'politi', 'politichef', 'politiet', 'politigård', 'politik', 'politiker', 'politikere', 'politikeres', 'politikerlede', 'politikerne', 'politikernes', 'politikker', 'politikkerne', 'politisk', 'politiske', 'polititilhold', 'polle', 'polske', 'popcorn', 'poppe', 'popper', 'populist', 'populistisk', 'populistiske', 'populär', 'populære', 'porno', 'portionen', 'portræt', 'portrætter', 'portrætteret', 'portvin', 'pose', 'posen', 'positiva', 'positivt', 'post', 'postade', 'postbud', 'poste', 'posten', 'postet', 'posthanen', 'postit', 'postmændene', 'postnord', 'posts', 'pot', 'potatis', 'potato', 'potentiale', 'potentielle', 'potet', 'powerade', 'poäng', 'pr', 'pragtfulde', 'praksis', 'praktikant', 'prata', 'pregnant', 'prejudice', 'prequelmemes', 'president', 'presist', 'presse', 'pressefotograf', 'pressen', 'presserådgiver', 'prestige', 'priden', 'prikkede', 'primitive', 'primitivt', 'primære', 'primært', 'prince', 'princip', 'princippet', 'prins', 'prinserne', 'prinsesse', 'prinsesserne', 'pris', 'prisa', 'prisen', 'priser', 'privat', 'private', 'privaten', 'privatliv', 'priviligerede', 'problem', 'problematisk', 'problemer', 'problemet', 'problemstilling', 'procent', 'procentdel', 'procentvise', 'producerer', 'produceres', 'produceret', 'produkt', 'produkter', 'profession', 'profeten', 'proff', 'profilbillede', 'profilen', 'profiling', 'profiltekst', 'profit', 'profitten', 'programmer', 'programmere', 'programmeringssprog', 'programmeringsspråk', 'programmerne', 'programmet', 'programmører', 'progressiv', 'progressive', 'projekt', 'prol', 'promenaden', 'propaganda', 'propagandastrategi', 'proportioner', 'proportionerne', 'proppede', 'proppet', 'prostition', 'prostituere', 'prostitueret', 'protest', 'protip', 'proud', 'provokere', 'provokerende', 'proxy', 'pryde', 'præcis', 'præcise', 'præciserer', 'præcision', 'præcist', 'prædestineret', 'præget', 'prægtige', 'præmis', 'præmisser', 'præsident', 'præst', 'præstation', 'præsten', 'prølihørher', 'prøv', 'prøvd', 'prøve', 'prøver', 'prøves', 'prøvet', 'ps', 'psykiatrien', 'psykisk', 'psykolog', 'psykopat', 'psykopater', 'psykopaters', 'psykose', 'pt', 'pu', 'pubg', 'publiceret', 'publikumssuksess', 'puch', 'pucko', 'pudse', 'pudsigt', 'puha', 'punkt', 'punkter', 'punktum', 'punktummet', 'puns', 'puritansk', 'pusher', 'puste', 'pustet', 'pusur', 'puts', 'putte', 'puttede', 'putter', 'puttet', 'pylrede', 'pynt', 'python', 'på', 'påbudt', 'påduttes', 'påført', 'påklædningen', 'pålægschokolade', 'påminner', 'påpasselig', 'påpege', 'påpeger', 'pårørende', 'påske', 'påskmusten', 'påstand', 'påstå', 'påstået', 'påstår', 'påstås', 'påtage', 'påtaget', 'påvirke', 'påvirker', 'pædagoger', 'pædagogisk', 'pædagogmedhjælper', 'pædofiler', 'pæn', 'pæne', 'pænere', 'pænt', 'pære', 'pærer', 'pölse', 'pölsen', 'pølen', 'pølse', 'pølsearv', 'pølsebilen', 'pølsehorn', 'pølsemanden', 'pølser', 'pølseret', 'pølsevogn', 'pølsevognen', 'pølsevognene', 'pønser', 'questions', 'quickbrev', 'rabatkort', 'racer', 'racercykel', 'racercyklister', 'racial', 'racing', 'racister', 'racistisk', 'radar', 'radigale', 'radikal', 'radikale', 'radio', 'radio24syv', 'radioen', 'rager', 'ragnerok', 'raid', 'raii', 'rain', 'raket', 'rakte', 'ralme', 'ramadansnitte', 'ramler', 'ramme', 'rammer', 'ramos', 'ramt', 'ramte', 'randen', 'rander', 'randers', 'randomdkguy', 'randrussianer', 'ransagning', 'rant', 'rap', 'rapper', 'rappere', 'rapport', 'rapporten', 'rapportere', 'rapporterer', 'rart', 'rasende', 'raseri', 'rask', 'raske', 'rasmus', 'rasmussen', 'rasrp', 'rassragr', 'rat', 'rate', 'rating', 'rationer', 'rattet', 'raufwähl', 'rav', 'rave', 're', 'reagere', 'reagerer', 'reagering', 'reageringen', 'reaktion', 'reaktionen', 'reaktioner', 'real', 'realiseret', 'reality', 'reb', 'receptindløsning', 'receptindløsninger', 'recolor', 'recreation', 'red', 'redan', 'redde', 'reddit', 'reddits', 'redigering', 'redt', 'redtube', 'reducerer', 'reel', 'reelle', 'reelt', 'reference', 'referer', 'refererer', 'reflektere', 'reformationen', 'regan', 'regards', 'regel', 'regering', 'regeringen', 'regionalt', 'regionen', 'regionerne', 'regissør', 'registeret', 'registreringsafgift', 'regler', 'reglerne', 'regn', 'regnbuefarvet', 'regnbuesamfund', 'regne', 'regnede', 'regnen', 'regner', 'regnes', 'regnestykket', 'regnet', 'regning', 'regningen', 'regningerne', 'regnskab', 'regnskabet', 'regnskov', 'regnskærm', 'regnvejr', 'regulerede', 'rejse', 'rejser', 'rejsning', 'rejst', 'rejste', 'reklame', 'reklamer', 'rekord', 'rekylen', 'relatere', 'relative', 'relativt', 'relevant', 'relevante', 'religion', 'religions', 'religionshensyn', 'religiøs', 'religiøse', 'remoulade', 'remulade', 'ren', 'render', 'rener', 'rengøres', 'rengøring', 'renset', 'rent', 'rep', 'repetere', 'replaces', 'report', 'repost', 'reposter', 'repostet', 'representeret', 'represents', 'repræsentant', 'repræsentationer', 'repræsentativt', 'repræsenterer', 'republiansk', 'republic', 'republik', 'republikanernes', 'research', 'reserve', 'respect', 'respekt', 'respekten', 'respekter', 'respektere', 'respektløs', 'respektløst', 'respondents', 'ressource', 'ressourcer', 'rest', 'restaurant', 'restauranten', 'restauranter', 'resten', 'resterende', 'resterne', 'resultat', 'resultater', 'resulterede', 'ret', 'retard', 'retardering', 'retfærdig', 'retfærdiggøre', 'retmessige', 'retmæssige', 'retmæssigt', 'retning', 'retssag', 'rette', 'retteligen', 'retten', 'retter', 'rettet', 'rettidig', 'rettigheder', 'rettænkende', 'retur', 'rex', 'ribbet', 'rica', 'riddance', 'rider', 'rig', 'rige', 'rigelig', 'rigeligt', 'riges', 'rigeste', 'rigsfællesskabet', 'rigt', 'rigtig', 'rigtige', 'rigtigt', 'rike', 'rikke', 'riksvapen', 'riktiga', 'riktigt', 'rimelig', 'rimeligt', 'ring', 'ringe', 'ringede', 'ringeklokke', 'ringeklokken', 'ringer', 'ringeste', 'ringet', 'rio', 'rip', 'ris', 'risengrød', 'risengrøden', 'risikabel', 'risikere', 'risiko', 'risikoen', 'risikovillighed', 'ristede', 'ro', 'roasters', 'roastme', 'robot', 'rocke', 'rockerklub', 'rod', 'rodalon', 'rode', 'roder', 'rodet', 'rofl', 'rolex', 'rolig', 'roligaste', 'rolige', 'roligt', 'roller', 'rollo', 'roman', 'romanforløbet', 'romantic', 'ronaldo', 'ronnie', 'roomba', 'rosende', 'rosinboller', 'rosiner', 'roskilde', 'rostat', 'roteret', 'rotter', 'router', 'routes4you', 'rovdrift', 'royalist', 'rubjerg', 'ruc', 'rugbrødet', 'rugbrødsmad', 'rul', 'ruled', 'rules', 'rulle', 'ruller', 'rum', 'rummet', 'rumpen', 'rumskibe', 'rund', 'runde', 'runder', 'rundkreds', 'rundt', 'ruske', 'rusland', 'ruslands', 'russerne', 'russiske', 'rust', 'rustvognen', 'rute', 'ruten', 'rutine', 'ry', 'ryd', 'rydde', 'ryddet', 'ryg', 'ryge', 'ryger', 'ryggen', 'rygning', 'rygtes', 'rykke', 'rykker', 'rylle', 'ryssen', 'ryssian', 'rystede', 'rystende', 'ryster', 'ryttere', 'räder', 'räkkefölgan', 'råb', 'råbe', 'råber', 'råd', 'råde', 'råden', 'råderum', 'rådgivning', 'rådhuset', 'rådhuspladsen', 'rådne', 'råt', 'rædsel', 'rædsome', 'rækken', 'rækkevidde', 'röd', 'rökte', 'rövfuld', 'rød', 'røde', 'rødeee', 'rødekors', 'rødgrød', 'rødkaalborg', 'rødt', 'rødvin', 'røg', 'røget', 'røre', 'rørende', 'rørt', 'røv', 'røven', 'røver', 'røvere', 'røvfuld', 'røvgevir', 'røvhul', 'røvtur', 'saaby', 'sad', 'safe', 'safehouse', 'saftevand', 'sag', 'sagde', 'sagen', 'sager', 'sagerne', 'sagnkonge', 'sags', 'sagsøge', 'sagt', 'sagtens', 'sake', 'saks', 'salam', 'salat', 'salg', 'salget', 'salt', 'salte', 'saltet', 'salute', 'samarbejder', 'samarbejdet', 'samarbeta', 'same', 'samfund', 'samfundet', 'samfundets', 'samhandel', 'samle', 'samled', 'samlede', 'samleje', 'samler', 'samlested', 'samlet', 'samme', 'sammel', 'sammen', 'sammenbrud', 'sammenført', 'sammenhold', 'sammenholdsfølelsen', 'sammenhæng', 'sammenkoblet', 'sammenligne', 'sammenlignes', 'sammenlignet', 'sammenligning', 'sammenlignings', 'sammentyggeloven', 'samsø', 'samt', 'samtale', 'samtalen', 'samtaler', 'samtidig', 'samtlige', 'sand', 'sande', 'sandelig', 'sandhed', 'sandheden', 'sandland', 'sandsynlighed', 'sandsynligt', 'sandsynligvis', 'sandt', 'sandwich', 'sang', 'sange', 'sangen', 'sangtimer', 'sans', 'sant', 'sarkasmen', 'sarkastisk', 'sarte', 'sat', 'satan', 'sataneme', 'sataner', 'satans', 'saten', 'satir', 'satire', 'satme', 'satte', 'satw', 'sauce', 'saudiske', 'saven', 'savet', 'savne', 'savner', 'savnet', 'say', 'sb', 'sc2', 'scam', 'scams', 'scandijerk', 'scanne', 'scannet', 'scenarie', 'scene', 'scenen', 'scener', 'schland', 'schon', 'scorer', 'scoret', 'scrambleforsverige', 'screenshot', 'se', 'sea', 'seancen', 'secret', 'sedler', 'see', 'seehen', 'seerbillede', 'seere', 'segment', 'segrare', 'seiv', 'sej', 'sejere', 'sejle', 'sejler', 'sejr', 'sejrer', 'sejrherren', 'sejt', 'seks', 'seksualiteter', 'sekularisering', 'sekunder', 'sekundær', 'selektionsbias', 'selerne', 'selfie', 'selfølgelig', 'selv', 'selvbruner', 'selvcensur', 'selve', 'selveste', 'selvforståelse', 'selvfølgelig', 'selvfølgeligt', 'selvmedlidenhed', 'selvmord', 'selvmordstanker', 'selvom', 'selvopfattelse', 'selvopfundet', 'selvreizend', 'selvretfærdigt', 'selvsagt', 'selvstændig', 'selvstændigt', 'selvtilfreds', 'semi', 'semifinalerne', 'send', 'sende', 'sender', 'sendes', 'sendt', 'sendte', 'senere', 'senest', 'seneste', 'seng', 'sengen', 'sengetid', 'senpai', 'sense', 'sensible', 'sent', 'separatist', 'september', 'ser', 'serie', 'serien', 'serieonanist', 'serier', 'serious', 'seriøs', 'seriøse', 'seriøsitet', 'seriøst', 'servere', 'serverede', 'service', 'serviceloven', 'ses', 'set', 'sett', 'several', 'sex', 'sexet', 'sexfantasier', 'sextilbud', 'sexual', 'sf', 'sfs', 'sgu', 'shabadibadabdab', 'shadowban', 'shame', 'share', 'sharia', 'sheikh', 'shirt', 'shirts', 'shit', 'shitposte', 'shitty', 'shittyama', 'shittyfoodporn', 'shittyhdr', 'shorts', 'shots', 'shout', 'show', 'showet', 'shut', 'shålålå', 'sida', 'sidan', 'sidde', 'siddende', 'sidder', 'siddet', 'side', 'sidefif', 'siden', 'sider', 'sidor', 'sidst', 'sidste', 'sidstnævnte', 'sie', 'sier', 'sig', 'sige', 'siger', 'siges', 'sign', 'signalementløse', 'signaler', 'signalflag', 'signe', 'signor', 'sigselv', 'sigt', 'sigte', 'sigtelsen', 'sigtet', 'sigøjnerbossen', 'sikke', 'sikken', 'sikker', 'sikkerhed', 'sikkerhedshensyn', 'sikkerhedsteater', 'sikkert', 'sikre', 'sikrede', 'sikret', 'sikten', 'silkeborg', 'simon', 'simpel', 'simpelhen', 'simpelt', 'simpelthen', 'simple', 'sin', 'sinde', 'sindssyg', 'sindssyge', 'sindssygt', 'sindsyge', 'sindsygt', 'sine', 'single', 'sir', 'sirenerne', 'siriuspatruljens', 'sit', 'sitt', 'situation', 'situationen', 'situationer', 'sjakaler', 'sjat', 'sjette', 'sjok', 'sjov', 'sjove', 'sjoven', 'sjovere', 'sjovt', 'sjunger', 'sjusk', 'sjw', 'självklart', 'sjæl', 'sjælden', 'sjældent', 'sjælland', 'sjællændere', 'ska', 'skab', 'skabe', 'skabeloner', 'skabet', 'skabt', 'skabte', 'skada', 'skade', 'skader', 'skaderne', 'skadestuen', 'skadet', 'skadinavien', 'skagen', 'skal', 'skala', 'skaldyrscenter', 'skam', 'skamme', 'skandale', 'skandaler', 'skandaløst', 'skandinavien', 'skandiunavien', 'skarpe', 'skarpere', 'skarpskydning', 'skat', 'skatteforholdene', 'skattekroner', 'skattelettelser', 'skattely', 'skattestop', 'skatteyderne', 'skavank', 'skdinavien', 'ske', 'skejser', 'skelet', 'sker', 'sket', 'skete', 'ski', 'skibe', 'skibene', 'skibet', 'skibsnation', 'skid', 'skide', 'skideflot', 'skidegode', 'skidegodt', 'skider', 'skidt', 'skiferie', 'skift', 'skifte', 'skiftede', 'skifter', 'skiftet', 'skiftevis', 'skiiiide', 'skikkelig', 'skildt', 'skiller', 'skilling', 'skills', 'skilt', 'skiltet', 'skiløb', 'skin', 'skindød', 'skinken', 'skinkesalat', 'skinkeskuden', 'skinnende', 'skinner', 'skinnerne', 'skit', 'skiten', 'skitlåten', 'skive', 'skjold', 'skjoldene', 'skjuler', 'skjulte', 'skogar', 'skole', 'skolebrød', 'skolen', 'skolereformen', 'skorsten', 'skosåler', 'skotland', 'skotske', 'skotterne', 'skovbrand', 'skovbrande', 'skrald', 'skraldet', 'skraldgriner', 'skrattade', 'skrattar', 'skred', 'skreg', 'skrev', 'skrevet', 'skrevne', 'skrider', 'skridt', 'skriftspråk', 'skrig', 'skriger', 'skriv', 'skrive', 'skrivebord', 'skrivebordsbaggrund', 'skriver', 'skrivit', 'skru', 'skrue', 'skruede', 'skruer', 'skruet', 'skruetrækkeren', 'skrummel', 'skrå', 'skræmme', 'skræmmende', 'sku', 'skubbede', 'skubbet', 'skud', 'skude', 'skudt', 'skuespiller', 'skuespillere', 'skuffe', 'skuffende', 'skuffer', 'skuffet', 'skulderen', 'skulderstrop', 'skull', 'skulle', 'skumle', 'skyd', 'skyde', 'skygge', 'skyhøje', 'skyld', 'skylden', 'skymmer', 'skynd', 'skynde', 'skynder', 'skyrim', 'skyts', 'skäms', 'skämt', 'skämtet', 'skål', 'skåle', 'skåne', 'skånejäveln', 'skånelandene', 'skåning', 'skåninger', 'skånske', 'skåret', 'skægt', 'skæpper', 'skær', 'skære', 'skærer', 'skærmen', 'skævt', 'skævvredet', 'skød', 'skøge', 'skøj', 'skøn', 'skønhed', 'skønne', 'skønt', 'skør', 'skøre', 'slaget', 'slagmark', 'slags', 'slagsmål', 'slagtilfælde', 'slap', 'slappe', 'slapper', 'slaraffenland', 'slat', 'slatten', 'slavemaster123', 'slaver', 'slaveri', 'slechsvig', 'sleep', 'slemme', 'slemt', 'slesvig', 'slet', 'sletter', 'slettet', 'slides', 'slidesår', 'slikskål', 'slippe', 'slipper', 'slippery', 'slog', 'sloges', 'slope', 'sludder', 'slukker', 'slukket', 'sluppet', 'slut', 'slutningen', 'slutter', 'slutty', 'slyngler', 'slå', 'slået', 'slår', 'slæber', 'sløjdlokalet', 'sløset', 'smadder', 'smadret', 'smag', 'smage', 'smager', 'smagsløse', 'smagsløst', 'smagt', 'smagte', 'smart', 'smarte', 'smatso', 'smekk', 'smell', 'smelting', 'smid', 'smide', 'smider', 'smidt', 'smiger', 'smil', 'smilebåndet', 'smilede', 'smilte', 'sminke', 'smitte', 'sms', 'smugle', 'smuk', 'smukke', 'smukkere', 'smukkeste', 'smukt', 'smule', 'smut', 'smuthullet', 'smutter', 'smuuule', 'smäller', 'små', 'småflag', 'smålighed', 'småpenge', 'småskør', 'småt', 'småting', 'smæk', 'smörlösa', 'smør', 'smøred', 'smøret', 'smørrebrød', 'smørrebrødsbiks', 'smørte', 'snabbt', 'snagvendt', 'snak', 'snakke', 'snakkede', 'snakken', 'snakker', 'snakket', 'snap', 'snappede', 'snaps', 'snarest', 'snart', 'snave', 'sne', 'sneg', 'sneklædte', 'snestorm', 'snickers', 'sniffe', 'snildt', 'snit', 'snitter', 'sno', 'snor', 'snotunge', 'snuden', 'snup', 'snuskede', 'snyde', 'snyder', 'snydt', 'snyggare', 'snyyyggt', 'snälla', 'snæver', 'snørebånd', 'snøvlet', 'so', 'soaked', 'socialdemokraterna', 'socialdemokraterne', 'socialdemokratiet', 'sociale', 'socialime', 'socialisme', 'socialismen', 'socialismens', 'socialist', 'socialister', 'sociologiske', 'sodavand', 'sofa', 'sofaen', 'softicen', 'software', 'sol', 'soldat', 'soldaten', 'soldater', 'soldaters', 'solen', 'solgt', 'solgte', 'solid', 'solide', 'solnedgang', 'som', 'somalia', 'somalier', 'some', 'something', 'sommer', 'sommeren', 'sommerhimmel', 'sommerhuse', 'sommers', 'sommervarme', 'somre', 'sonaren', 'sooo', 'sooooooov', 'sorg', 'sorligt', 'sorry', 'sort', 'sorta', 'sorte', 'sorteret', 'sorteste', 'sorts', 'sorø', 'sos', 'sosu', 'sounds', 'sove', 'sover', 'soveværelse', 'sovjetiske', 'sovjettiden', 'sovsen', 'spaghetti', 'spanien', 'spansk', 'spanske', 'spare', 'sparepærer', 'sparer', 'sparkes', 'sparket', 'spcielt', 'speak', 'special', 'specialiteter', 'specielt', 'specifikke', 'spejdede', 'spejderbøgerne', 'spejlede', 'spejler', 'spenderet', 'spies', 'spil', 'spild', 'spilder', 'spildt', 'spildte', 'spille', 'spillede', 'spiller', 'spillere', 'spillet', 'spin', 'spioner', 'spise', 'spiser', 'spist', 'spiste', 'spjældet', 'splejs', 'splittet', 'spoon', 'spor', 'spore', 'sporet', 'sport', 'sportsgren', 'sportsgrene', 'spot', 'spott', 'sprang', 'spre', 'sprede', 'spreder', 'springer', 'springet', 'sprog', 'sproget', 'sprogfærdigheder', 'sprut', 'spruttende', 'språk', 'sprænge', 'spurgt', 'spurgte', 'spy', 'spytte', 'spyttet', 'spåner', 'spår', 'spænde', 'spændende', 'spænder', 'spærres', 'spøg', 'spøgelse', 'spøger', 'spøjs', 'spørg', 'spørge', 'spørger', 'spørgsmål', 'spørgsmålene', 'spørgsmålet', 'spørgsmålstegn', 'sq', 'squ', 'ssss', 'stabil', 'stadig', 'stadigt', 'stadigvæk', 'stadogvæk', 'stads', 'stains', 'stak', 'stakkels', 'stakken', 'stalin', 'stambar', 'stamme', 'stammer', 'stand', 'standards', 'stank', 'star', 'starkare', 'starstruck', 'start', 'starte', 'startede', 'starten', 'starter', 'startet', 'startskud', 'startup', 'staten', 'statens', 'station', 'stationen', 'statistik', 'statistikker', 'statistikkerne', 'statistisk', 'statistiske', 'statsleder', 'statsmagten', 'statsmannamässiga', 'statsminister', 'statsministeren', 'statsministerfrue', 'statue', 'stave', 'stavefejl', 'stavemåde', 'staver', 'staves', 'stavet', 'stay', 'stealther', 'stearinlys', 'sted', 'steder', 'stedet', 'stege', 'steger', 'steges', 'steget', 'stegt', 'stegtflæsk', 'stemme', 'stemmer', 'stemmeret', 'stemmeretten', 'stemmerne', 'stemning', 'stemt', 'stemte', 'sten', 'stening', 'stenkast', 'steno', 'stereotypiske', 'sterkere', 'steroider', 'stevia', 'sti', 'sticka', 'sticker', 'stiftede', 'stiftet', 'stige', 'stigen', 'stigende', 'stiger', 'stik', 'stikke', 'stikken', 'stikkene', 'stikker', 'stikpropper', 'stikprøve', 'stil', 'stille', 'stillede', 'stiller', 'stillet', 'stilling', 'stimulering', 'stive', 'stivelse', 'stjal', 'stjerne', 'stjerner', 'stjålet', 'stjæle', 'stjæler', 'stk', 'stockfoto', 'stockholmske', 'stod', 'stodder', 'stof', 'stoffer', 'stofmisbrug', 'stoheds', 'stojberg', 'stol', 'stole', 'stolen', 'stolpskott', 'stolt', 'stolte', 'stolthed', 'stonia', 'stop', 'stopp', 'stoppe', 'stoppede', 'stopper', 'stoppes', 'stoppet', 'stor', 'storartet', 'storbarmet', 'storbyerne', 'store', 'storebror', 'storebælt', 'storfyrstendømmet', 'storhedstid', 'storhedsvanvid', 'storkespringvandet', 'storkreds', 'storm', 'stormen', 'stormer', 'storsejr', 'storskrald', 'storskryende', 'stort', 'stortyske', 'story', 'straf', 'straffe', 'straffen', 'straffes', 'straffespark', 'straffet', 'straight', 'straks', 'strammer', 'stranden', 'strandvasker', 'strandvej', 'strateger', 'strategiske', 'stream', 'streame', 'streamer', 'streg', 'stregen', 'streng', 'strengt', 'stressende', 'stresser', 'strid', 'stride', 'strikket', 'stroustrup', 'struenseeer', 'strukturerer', 'stråler', 'stråleskide', 'stræk', 'strække', 'strøm', 'strømme', 'studehandler', 'studentereksamen', 'studenterkørsel', 'studentforeninger', 'studere', 'studerede', 'studerende', 'studerer', 'studeres', 'studie', 'studier', 'studietur', 'studievejleder', 'stuegulvet', 'stuen', 'stueplanter', 'stuerent', 'stuetempratur', 'stukket', 'stunt', 'stupidt', 'styg', 'stykke', 'stykker', 'stykket', 'style', 'styr', 'styra', 'styre', 'styrede', 'styreform', 'styreformer', 'styrker', 'stäng', 'stå', 'stående', 'stået', 'ståkhålmske', 'stål', 'står', 'stær', 'stærk', 'stærkere', 'stærkstrømsreglementet', 'stærkt', 'stödröst', 'stödt', 'støder', 'stødte', 'støjberg', 'støjforurener', 'større', 'størrelse', 'størrelsen', 'størrer', 'størrere', 'størst', 'største', 'størstedelen', 'støt', 'støtte', 'støtter', 'støv', 'støvsuger', 'støvsugere', 'støvsugeren', 'su', 'sub', 'subject', 'subjektiv', 'subreddit', 'subreddits', 'subs', 'subscribed', 'succesfulde', 'succesfuldt', 'success', 'suck', 'suddenlygay', 'suger', 'sugerbabe', 'sugerør', 'suggestive', 'suk', 'sukker', 'sulte', 'sulten', 'sum', 'sund', 'sundhed', 'sundhedsforsikring', 'sundhedsvæsen', 'sunken', 'super', 'superellipse', 'superhelt', 'superior', 'superliga', 'superligaen', 'supermand', 'supermarked', 'supermarkeder', 'sur', 'sure', 'surely', 'surprise', 'surströmming', 'surströmning', 'surstrømming', 'surstrømning', 'survey', 'sushi', 'suspekt', 'suspensions', 'sut', 'suveræn', 'suverænitet', 'sv', 'svag', 'svage', 'svagheder', 'svajer', 'svalt', 'svamp', 'svampe', 'svane', 'svanen', 'svanens', 'svaner', 'svanerne', 'svaneæg', 'svansken', 'svar', 'svare', 'svarede', 'svarer', 'svaret', 'svea', 'svearike', 'sved', 'sveder', 'svedigt', 'svedsken', 'sveeeeeensker', 'svennebrogen', 'svensk', 'svenska', 'svenskar', 'svenske', 'svenskeeeen', 'svensken', 'svenskens', 'svensker', 'svenskerbanner', 'svenskere', 'svenskerflag', 'svenskerlort', 'svenskerløgne', 'svenskern', 'svenskerne', 'svenskernes', 'svenskevitsene', 'svenskt', 'sverige', 'sverigeafton', 'sveriges', 'sveskn', 'svg', 'svikit', 'svimmar', 'svin', 'svindel', 'svindle', 'svindles', 'svindlet', 'svinekød', 'svunden', 'svyskere', 'sväng', 'svårt', 'svær', 'svære', 'sværgest', 'svært', 'svøb', 'svømmestadion', 'swap', 'swarje', 'swarjistan', 'sweden', 'swedistan', 'swinger', 'swisserne', 'syd', 'sydpå', 'syg', 'syge', 'sygedagpenge', 'sygehuse', 'sygehuset', 'sygeligtgørende', 'sygemelder', 'sygt', 'symbolsk', 'symbolske', 'sympati', 'sympatiserer', 'syn', 'synd', 'syndat', 'syndebuk', 'synder', 'syndt', 'syner', 'synes', 'synet', 'synge', 'synger', 'synker', 'synonym', 'synonymer', 'syns', 'syntes', 'syrerne', 'syrien', 'system', 'systemet', 'säger', 'så', 'sådan', 'sådanmark', 'sådanne', 'sådant', 'såe', 'såfremt', 'sågar', 'såkaldt', 'såkaldte', 'således', 'sålænge', 'såmænd', 'sån', 'sånn', 'sånt', 'såret', 'såsom', 'såvel', 'sååå', 'såååå', 'sædet', 'sædvanlig', 'sædvanlige', 'sædvanligvis', 'sæk', 'sælg', 'sælge', 'sælger', 'sælges', 'sænk', 'sænke', 'sænker', 'særheder', 'særlig', 'særligt', 'sæson', 'sæt', 'sætning', 'sætte', 'sætter', 'sættes', 'söm', 'sø', 'sød', 'søde', 'sødere', 'sødt', 'søge', 'søger', 'søgning', 'søgt', 'søgte', 'søjlediagram', 'sølv', 'sølvpapirshatte', 'sølvpapirshatten', 'sømmet', 'søn', 'søndag', 'søndagen', 'sønner', 'søren', 'sørensen', 'sørg', 'sørge', 'sørgelige', 'sørgeligste', 'sørgeligt', 'sørme', 'søster', 'søstre', 'søvn', 'søvnløse', 't_t', 'ta', 'tab', 'tabel', 'taber', 'tabt', 'tabte', 'tack', 'tag', 'tage', 'tager', 'taget', 'tak', 'takeover', 'takk', 'takke', 'takker', 'takket', 'taktik', 'tal', 'talar', 'tale', 'talefod', 'talent', 'talentfulde', 'taler', 'tales', 'talespråk', 'taletid', 'tallene', 'tallet', 'talt', 'talte', 'tamt', 'tandem', 'tanke', 'tanken', 'tankenom', 'tanker', 'tankerne', 'tanks', 'tankstationer', 'taper', 'taphanevand', 'tappat', 'tar', 'tartelettirsdag', 'tarvelige', 'taske', 'tasken', 'tatovør', 'tatt', 'tattooed', 'tattoos', 'taxa', 'taxaen', 'tbh', 'td', 'team', 'teenager', 'teenagere', 'tegn', 'tegne', 'tegnefilms', 'tegneserie', 'tegnet', 'tegningen', 'teknik', 'teknikker', 'teknisk', 'tekniske', 'teknologisk', 'tekst', 'teksten', 'tekster', 'telefon', 'telefoner', 'telefonnummer', 'teltplads', 'tema', 'temmelig', 'tempel', 'temperatur', 'temperaturen', 'temperaturerne', 'tendens', 'tennisbold', 'teorien', 'term', 'termokandekaffe', 'terror', 'terrorangrebene', 'terrorisme', 'test', 'tested', 'testikler', 'thai', 'thailand', 'thank', 'thanksobama', 'that', 'the', 'their', 'theme', 'then', 'there', 'theroux', 'thestrup', 'thi', 'think', 'this', 'thomas', 'thompsons', 'thors', 'thread', 'threat', 'throttlet', 'ti', 'tid', 'tide', 'tiden', 'tider', 'tidlig', 'tidlige', 'tidligere', 'tidligt', 'tidløst', 'tidpunkt', 'tidsalder', 'tidspunkt', 'tidsramme', 'tidsregning', 'tidsrum', 'tie', 'tier', 'ties', 'tigger', 'til', 'tilbage', 'tilbagebetaling', 'tilbageblevne', 'tilbageskridt', 'tilbud', 'tilbyder', 'tildække', 'tilegne', 'tilfreds', 'tilfredse', 'tilfælde', 'tilfældige', 'tilfældighvis', 'tilfældigt', 'tilfældigvis', 'tilføj', 'tilføje', 'tilgengæld', 'tilgode', 'tilhænger', 'tilhængere', 'tilhøre', 'tilhørende', 'tilhører', 'tilintetgøres', 'tilkaldes', 'tilkøber', 'till', 'tillade', 'tillader', 'tilladte', 'tillidsfulde', 'tillräckligt', 'tillsammans', 'tillverkar', 'tillykke', 'tillægsord', 'tilmed', 'tilnærmelsesvist', 'tilpasset', 'tilråb', 'tilsendt', 'tilstand', 'tilstede', 'tilstedeværelse', 'tilstrækkeligt', 'tilstødende', 'tilsvarende', 'tilsydende', 'tilsyneladende', 'tilsætningsstoffer', 'tiltagende', 'tilter', 'tilværelse', 'tilværelsen', 'tilykke', 'tim', 'timberlake', 'time', 'timene', 'timer', 'timerne', 'times', 'ting', 'tingene', 'tinna', 'tip', 'tirsdag', 'tis', 'tit', 'titel', 'titelporno', 'titelsange', 'titicakasjön', 'titlen', 'titulere', 'tja', 'tjaa', 'tjaaa', 'tjek', 'tjekke', 'tjekker', 'tjen', 'tjene', 'tjener', 'tjent', 'tjockisen', 'tjubang', 'tjøffenhawner', 'tl', 'tlf', 'tll', 'tnegru', 'to', 'tog', 'togbro', 'toget', 'togt', 'toilet', 'toilettet', 'tokiga', 'tokyo', 'told', 'tolke', 'tolker', 'tolle', 'tom', 'tomhjernede', 'tomma', 'tomme', 'tomt', 'too', 'took', 'top', 'toppe', 'toppen', 'toppolitikerer', 'tor', 'torden', 'torn', 'torpedere', 'torrenter', 'torrents', 'torsk', 'tortur', 'tossede', 'tosser', 'tosset', 'tosso', 'total', 'totalitært', 'totalt', 'totesmessenger', 'tour', 'tracking', 'tradition', 'traditionelle', 'traditioner', 'traf', 'trafikanter', 'trafikdengsen', 'trafikken', 'tragisk', 'tragistan', 'trailer', 'trailere', 'trailers', 'trails', 'trak', 'tramp', 'tramper', 'transkønnede', 'translate', 'translation', 'transport', 'trash', 'travlt', 'tre', 'tredive', 'tredje', 'tredjerangs', 'treenighed', 'trees', 'trefliget', 'trefoldigt', 'tremmer', 'trend', 'trenden', 'trenger', 'trevor', 'triatlons', 'trick', 'triggered', 'triggerwarning', 'trille', 'trillede', 'triller', 'trin', 'trine', 'trippet', 'tripple', 'trish', 'trist', 'trit', 'triumfatorholdet', 'tro', 'trodde', 'trods', 'trodser', 'troede', 'troen', 'trojanske', 'troll', 'trommemaskine', 'tronen', 'tronfølger', 'troppe', 'tropper', 'tror', 'trosspørgsmål', 'trots', 'trotzdem', 'troværdig', 'troværdighed', 'troværdigt', 'trudsel', 'true', 'truet', 'trukket', 'trump', 'trunte', 'truslen', 'trusler', 'trusser', 'tryg', 'trykkemaskinen', 'trykkende', 'tråd', 'tråde', 'tråden', 'træ', 'træde', 'træer', 'træet', 'træets', 'træf', 'træffe', 'trægulv', 'træk', 'trækker', 'træls', 'træner', 'trænet', 'trænger', 'trængt', 'trængte', 'træt', 'très', 'trøøøøøjen', 'tschhhhh', 'tsk', 'tsvetkov', 'tuborg', 'tudefjæser', 'tudekiks', 'tudekællingerne', 'tuder', 'tuktuk', 'tun', 'tune', 'tungan', 'tungen', 'tungere', 'tupperware', 'tur', 'ture', 'turist', 'turister', 'turnering', 'turneringen', 'turneringer', 'tusind', 'tusinde', 'tv', 'tv2', 'tversted', 'tvinge', 'tvinges', 'tvivl', 'tvivlen', 'tvivler', 'tvivlsom', 'tvungen', 'tvunget', 'tvångsmatar', 'tværs', 'tweed', 'tweet', 'tweets', 'twitch', 'tyben', 'tycker', 'tyckte', 'tydelig', 'tydeligere', 'tydeligt', 'tydeligvis', 'tyder', 'tyfonprins', 'tygge', 'tygget', 'tyk', 'tykke', 'tykt', 'tynd', 'tyndskids', 'type', 'typer', 'typisk', 'typiskt', 'typsik', 'tyr', 'tyranni', 'tyre', 'tyrkiet', 'tyrkisk', 'tysk', 'tyske', 'tysken', 'tyskere', 'tyskerne', 'tyskland', 'tyve', 'tyveri', 'täl', 'tällnörmätïvt', 'tänker', 'tävlar', 'tå', 'tåbe', 'tåbelige', 'tåbeligt', 'tåge', 'tågerne', 'tåle', 'tåler', 'tålmodige', 'tålmodighed', 'tåre', 'tårer', 'tæer', 'tæerne', 'tæller', 'tænder', 'tændt', 'tænk', 'tænke', 'tænker', 'tænkere', 'tænkt', 'tænkte', 'tær', 'tære', 'tæskes', 'tæt', 'tættere', 'tæve', 'tævet', 'tér', 'tøffe', 'tøj', 'tøjet', 'tøjlerne', 'tøjskab', 'tømmermænd', 'tønde', 'tøpholms', 'tør', 'tørret', 'tørt', 'tøs', 'ua', 'uacceptabelt', 'uafhængige', 'uafhængigheden', 'ualmindeligt', 'ualmindeligtklamt', 'uanset', 'uansvarlig', 'uartige', 'ub', 'ubegavet', 'ubehagelige', 'ubetydelige', 'ubevidst', 'ubrugelig', 'ubåd', 'ubåden', 'ud', 'udansk', 'udblæsning', 'udbredelse', 'udbredt', 'udbrydere', 'uddanelse', 'uddannelse', 'uddannelses', 'uddanner', 'uddele', 'uddybe', 'ude', 'udelukkende', 'udelukker', 'udemærket', 'uden', 'udenfor', 'udenlandsk', 'udenlandske', 'udenlanske', 'udenlændinge', 'udenom', 'udenomssnak', 'udfase', 'udfordre', 'udfordrende', 'udfordret', 'udfordring', 'udfordringer', 'udforske', 'udfra', 'udfylde', 'udføre', 'udførsel', 'udført', 'udgangen', 'udgangspunkt', 'udgave', 'udgifter', 'udgiver', 'udgjorde', 'udgør', 'udjævner', 'udkogt', 'udkommer', 'udland', 'udlandet', 'udledning', 'udlevede', 'udlevere', 'udlægger', 'udlægning', 'udlænding', 'udlændinge', 'udlændingepolitik', 'udlændingestramninger', 'udlænninge', 'udløse', 'udløst', 'udmærket', 'udnytte', 'udnyttede', 'udnyttet', 'udover', 'udpluk', 'udpræget', 'udradere', 'udrikkeligt', 'udsagn', 'udsat', 'udseende', 'udsend', 'udsendt', 'udskiftet', 'udskrift', 'udslette', 'udsletter', 'udspile', 'udstille', 'udstiller', 'udsætte', 'udtagelse', 'udtaget', 'udtalelse', 'udtalelser', 'udtaler', 'udtryk', 'udtrykke', 'udtrykket', 'udtrykt', 'uduelig', 'udvej', 'udvekslede', 'udvekslingsstudenter', 'udvikle', 'udvikler', 'udviklet', 'uegnet', 'uendelig', 'uendelige', 'uenig', 'uenighed', 'ueno', 'ufarligt', 'uforholdsmæssigt', 'uforståelig', 'ug', 'uge', 'ugen', 'uger', 'ugers', 'ugudelige', 'ugudeligt', 'ugyldig', 'uha', 'uheld', 'uheldig', 'uheldige', 'uhyggelig', 'uhyrlig', 'uindviede', 'uinteressant', 'uk', 'ukendte', 'ukraine', 'ulempe', 'ulemper', 'uligheden', 'ullevi', 'ulovlig', 'ulovlige', 'ulovligt', 'ultravold', 'ulve', 'ulven', 'ulykke', 'ulækker', 'ulækkert', 'um', 'umiddelbart', 'umulige', 'umuligt', 'und', 'under', 'underbart', 'undergang', 'underholde', 'underholdende', 'underholdning', 'underholdningen', 'underhylere', 'underlagt', 'underlig', 'underlige', 'underligt', 'underlødig', 'underrated', 'underskrevet', 'underskrift', 'underskrive', 'understrege', 'undersåtter', 'undersøgelse', 'undersøges', 'undertegnede', 'undertoner', 'undertrykke', 'undertrykkelse', 'undertrykt', 'underverdenens', 'underviser', 'underviseres', 'undervisning', 'undervisningen', 'undervisnings', 'undervurdere', 'underværker', 'undgå', 'undgår', 'undisputed', 'undlad', 'undrar', 'undre', 'undren', 'undrer', 'undret', 'undsklyd', 'undskyld', 'undskylde', 'undskylder', 'undskyldning', 'undskyldninger', 'undtagelse', 'undtagelser', 'undtagen', 'undtaget', 'undvære', 'unexpectedsmash', 'ung', 'ungdom', 'ungdomsdruk', 'ungdomsoprør', 'ungdomsuddannelse', 'unge', 'ungefär', 'ungen', 'unger', 'uni', 'uniform', 'union', 'unionen', 'unite', 'univers', 'universalis', 'universelle', 'universial', 'universitet', 'universiteter', 'universitetet', 'unlimited', 'unsubscribed', 'unterlases', 'unødig', 'unødvendig', 'uofficiel', 'uorden', 'uovertrufne', 'up', 'upassende', 'update', 'updates', 'upload', 'uploadet', 'upopulær', 'uppbåt', 'uppege', 'upptagen', 'uprofessionelt', 'upvote', 'upvoted', 'upvotes', 'ur', 'ureligiøse', 'uret', 'uretfærdigt', 'urgent', 'urimelige', 'url', 'urlär_till_och_med', 'urlå', 'urlåd', 'urlår', 'urlårsfalken', 'urlåske', 'urlåste_utföra_välfärdsräder_hos_de_smörlösa_och', 'urlædre', 'urlæg', 'urlændrer', 'urlænge', 'urlære', 'urlærktøj', 'urlæsentlig', 'urlæsk', 'urlén', 'urløderne', 'urløerne', 'urlølge', 'urlølgelig', 'urløre', 'urlører', 'urløvrigt', 'uroligheden', 'ursäkta', 'us', 'usa', 'usaglig', 'usanerne', 'user', 'useriøs', 'usikker', 'usikkerhed', 'usjove', 'uskyld', 'uskyldige', 'uskyldigt', 'usle', 'uspilleligt', 'uspiseligt', 'ussel', 'usundt', 'usælgelig', 'ut', 'utaknemmelige', 'utallige', 'utan', 'utföra', 'utide', 'utilfredse', 'utrolig', 'utroligt', 'utroskab', 'utvivlsom', 'utålelig', 'uu', 'uudholdelig', 'uudtaleligt', 'uundgåelige', 'uuuuu', 'uvidende', 'uw', 'uændret', 'v90', 'va', 'vaaaandt', 'vaccineproduktion', 'vad', 'vafan', 'vagt', 'vagthavende', 'vagthund', 'val', 'valdemar', 'valg', 'valgdagen', 'valget', 'valgfest', 'valgkamp', 'valgkreds', 'valgt', 'valgte', 'valhalla', 'value', 'van', 'vand', 'vandblærer', 'vandet', 'vandflasken', 'vandretur', 'vandt', 'vandtilslutning', 'vandtæt', 'vane', 'vanilje', 'vanligt', 'vanskabning', 'vanskelig', 'vant', 'vantro', 'vanvid', 'vanvittige', 'vanvittigt', 'vanærer', 'var', 'vara', 'vare', 'varebiler', 'varer', 'varet', 'varevogne', 'variants', 'varit', 'varm', 'varme', 'varmen', 'varmer', 'varmere', 'varmest', 'varmt', 'vasa', 'vask', 'vatnisse', 'vattet', 've', 'veckor', 'ved', 'vederstyggelighed', 'vedkommende', 'vedr', 'vedtagelse', 'vef', 'vej', 'vejarbejdere', 'vejbump', 'veje', 'vejen', 'vejert', 'vejgaard', 'vejle', 'vejr', 'vejret', 'vejtrækning', 'vel', 'velbekomme', 'veldesignede', 'veldokumenteret', 'velfortjente', 'velfungerende', 'velfærd', 'velfærden', 'velfærds', 'velfærdsmodel', 'velfærdssamfund', 'velfærdsstaten', 'velfærdssystem', 'velfærdsturister', 'velfærdsystem', 'velgørenhed', 'velkommen', 'velkomst', 'velsignelse', 'ven', 'vend', 'vende', 'vender', 'vendetta', 'vending', 'vendsyssel', 'vendte', 'venezuela', 'veninde', 'veninder', 'venlig', 'venligboere', 'venligboerne', 'venligfolket', 'venligst', 'vennegruppe', 'venner', 'vennetjeneste', 'venskab', 'venskaber', 'venstre', 'venstrefløjen', 'venstrefløjsere', 'venstreorienteret', 'venstres', 'vent', 'vente', 'ventede', 'venter', 'ventet', 'venue', 'verden', 'verdend', 'verdenen', 'verdens', 'verdenshistorien', 'verdensklasse', 'verdenskort', 'verdensmand', 'verdensmester', 'verdensmesterskab', 'verdensmestre', 'verdi', 'verkar', 'verkligen', 'verner', 'version', 'versjon', 'vest', 'vestager', 'vestegn', 'vestegns', 'vesten', 'vestindiske', 'vestjydsk', 'vestlig', 'vestlige', 'vestligt', 'vestsjællands', 'vet', 'veteran', 'veteranerne', 'vi', 'via', 'viber', 'vibes', 'viborg', 'victoria', 'vidare', 'vide', 'viden', 'videnskab', 'video', 'videoer', 'videoovervågning', 'videoovervågningen', 'videre', 'vidst', 'vidste', 'vidt', 'vidunder', 'vie', 'vigsø', 'vigtig', 'vigtige', 'vigtigere', 'vigtigeste', 'vigtigste', 'vigtigt', 'viking', 'vikinge', 'vikinger', 'vikingerne', 'vikingetiden', 'vikingetidsornamentik', 'vikingeånd', 'vikinghjelm', 'vil', 'vild', 'vilddyr', 'vilde', 'vildere', 'vildkat', 'vildlede', 'vildt', 'vilfort', 'vilken', 'vilket', 'vill', 'ville', 'villet', 'villig', 'villigt', 'vin', 'vind', 'vinde', 'vinden', 'vinder', 'vindersag', 'vindklokke', 'vindmølle', 'vindruer', 'vinduer', 'vinduerne', 'vinduet', 'vine', 'vingummier', 'vinkel', 'vinker', 'vinner', 'vinst', 'vinter', 'virke', 'virkede', 'virkelig', 'virkelige', 'virkeligheden', 'virkeligt', 'virker', 'virket', 'virklig', 'virksomhed', 'virksomheder', 'virksomhederne', 'vis', 'visdom', 'vise', 'viser', 'vision', 'viske', 'vismanden', 'visse', 'visst', 'vist', 'viste', 'visuel', 'vits', 'vitterligt', 'vitus', 'vivino', 'vodka', 'vods', 'vogn', 'vognen', 'vogt', 'voksen', 'voksende', 'voksenlivet', 'voksent', 'vokset', 'voksne', 'volbeat', 'vold', 'voldsommere', 'voldsomt', 'voldsorgie', 'voldsparate', 'voldtage', 'voldtægt', 'voldtægter', 'voldtægtforbrydere', 'voldtægtsmænd', 'volvo', 'von', 'vor', 'vorbei', 'vordingborg', 'vore', 'vores', 'vort', 'vote', 'vovse', 'vpn', 'vred', 'vrede', 'vredt', 'vrissen', 'vrøvl', 'vs', 'vsovs', 'vulgære', 'vundet', 'vurdere', 'vurdering', 'väl', 'välfärd', 'välfärden', 'välfärds', 'välfärdsspråk', 'välkomna', 'vänner', 'vära', 'världens', 'värsta', 'våbenlov', 'våbenskab', 'våd', 'våde', 'vådt', 'vågn', 'vågne', 'vågnede', 'vågner', 'vågnet', 'vår', 'våra', 'våran', 'vårat', 'våres', 'vååågn', 'væbnede', 'vægt', 'vægten', 'vægter', 'vægtmæssigt', 'væk', 'væl', 'vælge', 'vælger', 'vælgere', 'vælgerne', 'vælter', 'væmmeligt', 'vær', 'værd', 'værdi', 'værdien', 'værdier', 'værdifulde', 'værdig', 'værdsættes', 'være', 'værelse', 'værelset', 'væren', 'været', 'værge', 'værk', 'værksted', 'værkstedet', 'værktøj', 'værn', 'værre', 'værsgo', 'værste', 'værter', 'væsel', 'væsener', 'væsentligt', 'völdsamt', 'völdsömt', 'walesere', 'walkinghawking', 'wars', 'was', 'wat', 'wawe', 'way', 'wbc', 'we', 'weekendavisen', 'weiter', 'welcome', 'well', 'were', 'westboro', 'what', 'whatabout', 'whine', 'whisky', 'whistleblower', 'whistleblowers', 'white', 'whitepeoplegifs', 'whole', 'whooooaaaa', 'wikipedia', 'willem', 'william', 'win', 'wingback', 'winner', 'winwin', 'with', 'wium', 'won', 'woo', 'wookieerne', 'worcestershire', 'world', 'world_laws_pertaining_to_homosexual_relationships_and_expression', 'would', 'wow', 'wtf', 'ww2', 'www', 'x200b', 'xc', 'xd', 'xfactor', 'yah', 'yanko', 'yay', 'ydelser', 'ydersiden', 'yderst', 'yeah', 'yellow', 'yep', 'yes', 'yet', 'yndigt', 'yndlings', 'yndlingsblazer', 'ynglings', 'yngre', 'ynkelig', 'ynkelige', 'you', 'your', 'yousee', 'youtube', 'youtubere', 'ypperste', 'ytringsfriheden', 'zero', 'zeus', 'zlatan', 'zone', 'zones', 'zonic', 'zoo', 'zoos', 'zu', 'äckligt', 'äf', 'äkta', 'älfäbët', 'älgarnas', 'än', 'ändå', 'är', 'ärligt', 'ät', 'ätande', 'även', 'äö', 'åben', 'åbenbart', 'åbenlyst', 'åbent', 'åbn', 'åbne', 'åbnede', 'åbnet', 'åd', 'ågen', 'åh', 'åhh', 'åhhh', 'ålborg', 'ånd', 'åndehul', 'ånden', 'åndssvage', 'åndssvagt', 'åndsvagt', 'år', 'årene', 'året', 'årets', 'årgang', 'årh', 'århus', 'årig', 'årige', 'årlig', 'årlige', 'års', 'årsag', 'årsagerne', 'årsdagen', 'årtier', 'åsyn', 'åt', 'återfinns', 'åtminstone', 'ååh', 'æbleskiver', 'æder', 'ægge', 'ægget', 'ægte', 'ægtefælle', 'ægyptens', 'æhh', 'ækel', 'ækelt', 'ækv', 'ækvivalenter', 'ældre', 'ældrecheck', 'ældrepleje', 'ældste', 'ællinger', 'ændre', 'ændrede', 'ændrer', 'ændret', 'ængland', 'ær', 'ære', 'ærede', 'æren', 'æresrelaterede', 'æret', 'ærgeligt', 'ærgerligt', 'ærke', 'ærlig', 'ærligt', 'ærmerne', 'ævl', 'éen', 'én', 'ét', 'ër', 'öhm', 'övar', 'över', 'översätter', 'överträffar', 'övrigt', 'øde', 'ødelagt', 'ødelægge', 'ødelægger', 'øer', 'øges', 'øget', 'øgså', 'øh', 'øhh', 'øhhh', 'øje', 'øjeblik', 'øjeblikke', 'øjenbryn', 'øjene', 'øjenkrogen', 'øjet', 'øjne', 'øjnene', 'øke', 'økologisk', 'økologiske', 'økonomi', 'økonomiminister', 'økonomisk', 'økonomiske', 'økse', 'øl', 'ølakt', 'øland', 'øllebrød', 'øllen', 'øllerne', 'øllet', 'ølpriser', 'ønsk', 'ønske', 'ønsker', 'ønsket', 'øre', 'øremærket', 'ører', 'øresund', 'øret', 'ørevoks', 'ørnen', 'øst', 'østersøen', 'østeuropa', 'østeuropaer', 'østeuropæere', 'østrigerne', 'øv', 'øve', 'øverst', 'øverste', 'øvrige', 'øvrigt', 'øøøerlagger', 'ềfterligner']\n",
      "(2961, 9735)\n"
     ]
    },
    {
     "data": {
      "text/plain": [
       "array([[0, 0, 0, ..., 0, 0, 0],\n",
       "       [0, 0, 0, ..., 0, 0, 0],\n",
       "       [0, 0, 0, ..., 0, 0, 0],\n",
       "       ...,\n",
       "       [0, 0, 0, ..., 0, 0, 0],\n",
       "       [0, 0, 0, ..., 0, 0, 0],\n",
       "       [0, 0, 0, ..., 0, 0, 0]])"
      ]
     },
     "execution_count": 12,
     "metadata": {},
     "output_type": "execute_result"
    }
   ],
   "source": [
    "vectorizer = CountVectorizer()\n",
    "\n",
    "\n",
    "X = vectorizer.fit_transform(corpus)\n",
    "print(X)\n",
    "\n",
    "# alphabetically ordered\n",
    "#vectorizer.get_feature_names() == (\n",
    "#    ['darauf','dass','die','gefällt','jeder','kiefer','mein','mir','nicht','pocht','wird'])\n",
    "\n",
    "print(vectorizer.get_feature_names())\n",
    "print(X.shape)\n",
    "\n",
    "# the vectors\n",
    "\n",
    "X.toarray()"
   ]
  }
 ],
 "metadata": {
  "kernelspec": {
   "display_name": "torch3",
   "language": "python",
   "name": "torch3"
  },
  "language_info": {
   "codemirror_mode": {
    "name": "ipython",
    "version": 3
   },
   "file_extension": ".py",
   "mimetype": "text/x-python",
   "name": "python",
   "nbconvert_exporter": "python",
   "pygments_lexer": "ipython3",
   "version": "3.8.5"
  }
 },
 "nbformat": 4,
 "nbformat_minor": 5
}
