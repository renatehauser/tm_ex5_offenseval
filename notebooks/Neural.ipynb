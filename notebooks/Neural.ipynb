{
 "cells": [
  {
   "cell_type": "code",
   "execution_count": 1,
   "id": "ca383aa5",
   "metadata": {},
   "outputs": [],
   "source": [
    "import numpy as np\n",
    "from sklearn.feature_extraction.text import CountVectorizer\n",
    "from sklearn.feature_extraction.text import TfidfTransformer\n",
    "from sklearn.model_selection import train_test_split\n",
    "from sklearn import preprocessing\n",
    "from sklearn.metrics import accuracy_score, classification_report\n",
    "from sklearn.svm import LinearSVC"
   ]
  },
  {
   "cell_type": "code",
   "execution_count": 2,
   "id": "d3b970b9",
   "metadata": {},
   "outputs": [
    {
     "name": "stdout",
     "output_type": "stream",
     "text": [
      "True\n",
      "<class 'str'>\n"
     ]
    }
   ],
   "source": [
    "# read in corpus\n",
    "\n",
    "import csv\n",
    "filename = \"../Danish/Danish/offenseval-da-training-v1.tsv\"\n",
    "\n",
    "corpus, labels = [], []\n",
    "\n",
    "with open(filename, encoding=\"utf-8\") as tsv_file:\n",
    "    rd = csv.reader(tsv_file, delimiter=\"\\t\", quotechar='\"')\n",
    "    for row in rd:\n",
    "        if len(row) != 3:\n",
    "            continue\n",
    "        if row[2] == \"subtask_a\":\n",
    "            continue\n",
    "        corpus.append(row[1])\n",
    "        labels.append(row[2])\n",
    "        #print(row)\n",
    "        \n",
    "print(len(corpus)==len(labels))\n",
    "print(type(corpus[1]))"
   ]
  },
  {
   "cell_type": "code",
   "execution_count": 3,
   "id": "46a69742",
   "metadata": {},
   "outputs": [
    {
     "data": {
      "text/plain": [
       "array([0, 0, 1, ..., 0, 0, 1])"
      ]
     },
     "execution_count": 3,
     "metadata": {},
     "output_type": "execute_result"
    }
   ],
   "source": [
    "le = preprocessing.LabelEncoder()\n",
    "le.fit([\"NOT\", \"OFF\"])\n",
    "labels = le.transform(labels)\n",
    "labels"
   ]
  },
  {
   "cell_type": "code",
   "execution_count": 4,
   "id": "7b14ea93",
   "metadata": {},
   "outputs": [],
   "source": [
    "# split into test and training sets\n",
    "train_texts, test_texts, train_labels, test_labels = train_test_split(corpus, labels, test_size=0.1, random_state=7)"
   ]
  },
  {
   "cell_type": "code",
   "execution_count": 5,
   "id": "7f63a589",
   "metadata": {},
   "outputs": [],
   "source": [
    "# fit CountVectorizer on train_corpus + test_corpus to have complete vocabulary and avoid out of vocabulary items (???)\n",
    "# --> not sure this makes sense, this idea is from Manfred\n",
    "vectorizer = CountVectorizer()\n",
    "\n",
    "vectorizer.fit(train_texts+test_texts)\n",
    "\n",
    "# transform training and test set separately\n",
    "trainX = vectorizer.transform(train_texts)\n",
    "testX = vectorizer.transform(test_texts)\n",
    "\n",
    "train_and_test = vectorizer.transform(train_texts+test_texts)"
   ]
  },
  {
   "cell_type": "code",
   "execution_count": 6,
   "id": "ccb94d3c",
   "metadata": {},
   "outputs": [],
   "source": [
    "# same for tfidf fit and transformation\n",
    "transformer = TfidfTransformer()\n",
    "\n",
    "transformer.fit(train_and_test)\n",
    "\n",
    "trainX = transformer.transform(trainX)\n",
    "testX = transformer.transform(testX)"
   ]
  },
  {
   "cell_type": "markdown",
   "id": "5736d047",
   "metadata": {},
   "source": [
    "## Shallow FFN with one linear layer and sigmoid activation function"
   ]
  },
  {
   "cell_type": "code",
   "execution_count": 10,
   "id": "22c0c5c2",
   "metadata": {},
   "outputs": [],
   "source": [
    "# define the model \n",
    "\n",
    "import torch\n",
    "import torch.nn as nn\n",
    "\n",
    "class Net(nn.Module):   \n",
    "    def __init__(self):\n",
    "        super(Net, self).__init__()\n",
    "        self.fc1 = nn.Linear(input_dim,1)  \n",
    "       # self.init_weights()\n",
    "    \n",
    "    def init_weights(self):\n",
    "        initrange = 0.5\n",
    "        self.fc1.weight.data.uniform_(-initrange, initrange)\n",
    "        \n",
    "        \n",
    "    def forward(self, x):\n",
    "        x = torch.sigmoid(self.fc1(x))  \n",
    "\n",
    "        return x\n",
    "\n",
    "input_dim = len(trainX.toarray()[0])\n",
    "#net=Net()    \n",
    "\n",
    "#print(list(net.parameters()))\n",
    "#len(train_labels),len(trainX.toarray())"
   ]
  },
  {
   "cell_type": "code",
   "execution_count": 11,
   "id": "71f73e79",
   "metadata": {},
   "outputs": [],
   "source": [
    "from torch.utils.data import Dataset, DataLoader\n",
    "\n",
    "class Data(torch.utils.data.Dataset):\n",
    "  def __init__(self, data, labels):\n",
    "        'Initialization'\n",
    "        self.labels = labels\n",
    "        self.data = data\n",
    "\n",
    "  def __len__(self):\n",
    "        'Denotes the total number of samples'\n",
    "        return len(self.data)\n",
    "\n",
    "  def __getitem__(self, index):\n",
    "        'Generates one sample of data'\n",
    "     \n",
    "        X = self.data[index]\n",
    "        y = self.labels[index]\n",
    "\n",
    "        return torch.tensor(X,dtype=torch.float32,requires_grad=True), torch.tensor(y,dtype=torch.float32)\n",
    "    \n",
    "data = Data(trainX.toarray(),train_labels)"
   ]
  },
  {
   "cell_type": "code",
   "execution_count": 25,
   "id": "2e44e9da",
   "metadata": {},
   "outputs": [],
   "source": [
    "# training loop\n",
    "import torch.optim as optim\n",
    "\n",
    "dataloader = DataLoader(dataset=data,batch_size=20,shuffle=True)\n",
    "\n",
    "shallow_net=Net()\n",
    "\n",
    "# define stochastic gradient descent as optimizer\n",
    "optimizer = optim.SGD(shallow_net.parameters(), lr=0.01)\n",
    "\n",
    "# define loss function\n",
    "loss_func = nn.BCELoss()\n",
    "\n",
    "# training loop\n",
    "for epoch in range(400):\n",
    "    for batch_of_tensors, batch_labels  in  dataloader:\n",
    "        optimizer.zero_grad()       \n",
    "    \n",
    "        outputs = shallow_net(batch_of_tensors) # forward pass\n",
    "    \n",
    "        loss = loss_func(outputs, batch_labels.view(-1,1))\n",
    "\n",
    "        loss.backward()\n",
    "        optimizer.step()"
   ]
  },
  {
   "cell_type": "code",
   "execution_count": 15,
   "id": "a1a49f24",
   "metadata": {},
   "outputs": [],
   "source": [
    "def step(x):  \n",
    "    if x < 0.5:\n",
    "        return 0\n",
    "    else:\n",
    "        return 1"
   ]
  },
  {
   "cell_type": "code",
   "execution_count": 26,
   "id": "313296f6",
   "metadata": {},
   "outputs": [
    {
     "name": "stdout",
     "output_type": "stream",
     "text": [
      "[0, 0, 0, 0, 0, 0, 0, 0, 0, 0, 0, 0, 0, 0, 0, 0, 0, 0, 0, 0, 0, 0, 0, 0, 0, 0, 0, 0, 0, 0, 0, 0, 0, 0, 0, 0, 0, 0, 0, 0, 0, 0, 0, 0, 0, 0, 0, 0, 0, 0, 0, 0, 0, 0, 0, 0, 0, 0, 0, 0, 0, 0, 0, 0, 0, 0, 0, 0, 0, 0, 0, 0, 0, 0, 0, 0, 0, 0, 0, 0, 0, 0, 0, 0, 0, 0, 0, 0, 0, 0, 0, 0, 0, 0, 0, 0, 0, 0, 0, 0, 0, 0, 0, 0, 0, 0, 0, 0, 0, 0, 0, 0, 0, 0, 0, 0, 0, 0, 0, 0, 0, 0, 0, 0, 0, 0, 0, 0, 0, 0, 0, 0, 0, 0, 0, 0, 0, 0, 0, 0, 0, 0, 0, 0, 0, 0, 0, 0, 0, 0, 0, 0, 0, 0, 0, 0, 0, 0, 0, 0, 0, 0, 0, 0, 0, 0, 0, 0, 0, 0, 0, 0, 0, 0, 0, 0, 0, 0, 0, 0, 0, 0, 0, 0, 0, 0, 0, 0, 0, 0, 0, 0, 0, 0, 0, 0, 0, 0, 0, 0, 0, 0, 0, 0, 0, 0, 0, 0, 0, 0, 0, 0, 0, 0, 0, 0, 0, 0, 0, 0, 0, 0, 0, 0, 0, 0, 0, 0, 0, 0, 0, 0, 0, 0, 0, 0, 0, 0, 0, 0, 0, 0, 0, 0, 0, 0, 0, 0, 0, 0, 0, 0, 0, 0, 0, 0, 0, 0, 0, 0, 0, 0, 0, 0, 0, 0, 0, 0, 0, 0, 0, 0, 0, 0, 0, 0, 0, 0, 0, 0, 0, 0, 0, 0, 0, 0, 0, 0, 0, 0, 0, 0, 0, 0, 0, 0]\n"
     ]
    },
    {
     "data": {
      "text/plain": [
       "0.8716216216216216"
      ]
     },
     "execution_count": 26,
     "metadata": {},
     "output_type": "execute_result"
    }
   ],
   "source": [
    "# use dataloader for predictions: batch_size = testdata size\n",
    "\n",
    "testdata = Data(testX.toarray(),test_labels)\n",
    "\n",
    "testdataloader = DataLoader(dataset=testdata,batch_size=len(testdata))\n",
    "\n",
    "testdata,_ = next(iter(testdataloader))  # only one batch, label not needed since test_y are gold\n",
    "\n",
    "y_test_predict = shallow_net(testdata)     # make the prediction\n",
    "y_test_predict = [step(val) for val in y_test_predict.squeeze().detach().numpy()]  # step function\n",
    "\n",
    "print(y_test_predict)\n",
    "\n",
    "accuracy_score(test_labels,y_test_predict)  # sklearn scorer"
   ]
  },
  {
   "cell_type": "code",
   "execution_count": 27,
   "id": "67a44027",
   "metadata": {},
   "outputs": [
    {
     "name": "stdout",
     "output_type": "stream",
     "text": [
      "              precision    recall  f1-score   support\n",
      "\n",
      "           0       0.87      1.00      0.93       258\n",
      "           1       0.00      0.00      0.00        38\n",
      "\n",
      "    accuracy                           0.87       296\n",
      "   macro avg       0.44      0.50      0.47       296\n",
      "weighted avg       0.76      0.87      0.81       296\n",
      "\n"
     ]
    }
   ],
   "source": [
    "shallow_net_report = classification_report(test_labels, y_test_predict, zero_division=0)\n",
    "print(shallow_net_report)"
   ]
  }
 ],
 "metadata": {
  "kernelspec": {
   "display_name": "torch3",
   "language": "python",
   "name": "torch3"
  },
  "language_info": {
   "codemirror_mode": {
    "name": "ipython",
    "version": 3
   },
   "file_extension": ".py",
   "mimetype": "text/x-python",
   "name": "python",
   "nbconvert_exporter": "python",
   "pygments_lexer": "ipython3",
   "version": "3.8.5"
  }
 },
 "nbformat": 4,
 "nbformat_minor": 5
}
